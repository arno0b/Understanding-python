{
 "cells": [
  {
   "cell_type": "code",
   "execution_count": 10,
   "metadata": {},
   "outputs": [
    {
     "name": "stdout",
     "output_type": "stream",
     "text": [
      "Not Weird\n"
     ]
    }
   ],
   "source": [
    "import math\n",
    "\n",
    "n = int(input().strip())\n",
    "if n%2!=0 and n<101:\n",
    "    print('Weird')\n",
    "elif n%2==0:\n",
    "    if n in range(2,6):\n",
    "        print('Not Weird')\n",
    "    elif n in range(6,21):\n",
    "        print('Weird')\n",
    "    elif n>20 and n<101:\n",
    "        print('Not Weird')\n"
   ]
  },
  {
   "cell_type": "code",
   "execution_count": 12,
   "metadata": {},
   "outputs": [
    {
     "name": "stdout",
     "output_type": "stream",
     "text": [
      "8\n",
      "-2\n",
      "15\n"
     ]
    }
   ],
   "source": [
    "a = int(input())\n",
    "b = int(input())\n",
    "\n",
    "print(f\"{a+b}\")\n",
    "print(f\"{a-b}\")\n",
    "print(f\"{a*b}\")"
   ]
  },
  {
   "cell_type": "code",
   "execution_count": 15,
   "metadata": {},
   "outputs": [
    {
     "name": "stdout",
     "output_type": "stream",
     "text": [
      "0\n",
      "0.6\n"
     ]
    }
   ],
   "source": [
    "a = int(input())\n",
    "b = int(input())\n",
    "print(f\"{int(a/b)}\")\n",
    "print(f\"{a/b}\")"
   ]
  },
  {
   "cell_type": "code",
   "execution_count": 18,
   "metadata": {},
   "outputs": [
    {
     "name": "stdout",
     "output_type": "stream",
     "text": [
      "0\n",
      "1\n",
      "4\n",
      "9\n",
      "16\n"
     ]
    }
   ],
   "source": [
    "n = int(input())\n",
    "for i in range(0,n):\n",
    "    print(i*i)"
   ]
  },
  {
   "cell_type": "code",
   "execution_count": 23,
   "metadata": {},
   "outputs": [
    {
     "name": "stdout",
     "output_type": "stream",
     "text": [
      "True\n"
     ]
    }
   ],
   "source": [
    "\n",
    "\n",
    "def is_leap(year):\n",
    "    leap = False\n",
    "    if year < 1900 or year > 100000:\n",
    "        return False\n",
    "    if year % 4 == 0:\n",
    "        if year % 100 ==0:\n",
    "            if year % 400 ==0:\n",
    "                leap = True\n",
    "            else:\n",
    "                leap = False\n",
    "        else:\n",
    "            leap = True\n",
    "    else:\n",
    "        leap = False\n",
    "  \n",
    "    return leap\n",
    "\n",
    "year = int(input())\n",
    "print(is_leap(year))"
   ]
  },
  {
   "cell_type": "code",
   "execution_count": 39,
   "metadata": {},
   "outputs": [
    {
     "name": "stdout",
     "output_type": "stream",
     "text": [
      "12345\n"
     ]
    }
   ],
   "source": [
    "#n = int(input())\n",
    "n=5\n",
    "l = \"\"\n",
    "if n <= 150:\n",
    "    for i in range(1,n+1):\n",
    "        l = l + str(i)\n",
    "\n",
    "    print(l)\n",
    "        \n"
   ]
  },
  {
   "cell_type": "code",
   "execution_count": null,
   "metadata": {},
   "outputs": [],
   "source": [
    "def is_strict_superset(A, rest):   \n",
    "    super = True\n",
    "    for i in rest:\n",
    "        if not set(A).issuperset(i):\n",
    "            super = False\n",
    "        else:\n",
    "            super = True\n",
    "    return super\n",
    "\n",
    "A = input().split()\n",
    "set_no = int(input())\n",
    "rest = []\n",
    "for _ in range(set_no):\n",
    "    rest.append(input().split()) \n",
    "        \n",
    "if is_strict_superset(A, rest):\n",
    "    print(\"True\")\n",
    "else:\n",
    "    print(\"False\")\n"
   ]
  },
  {
   "cell_type": "markdown",
   "metadata": {},
   "source": [
    "filter(function,iteratble)"
   ]
  },
  {
   "cell_type": "code",
   "execution_count": 74,
   "metadata": {},
   "outputs": [
    {
     "name": "stdout",
     "output_type": "stream",
     "text": [
      "[[0, 0, 0], [0, 0, 1], [0, 1, 0], [1, 0, 0], [1, 1, 1]]\n"
     ]
    }
   ],
   "source": [
    "def valid_coordinate(x,y,z,n):\n",
    "    return [[i,j,k] for i in range(x+1) for j in range(y+1) for k in range(z+1) if (i+j+k) != n]\n",
    "    \n",
    "\n",
    "if __name__ == '__main__':\n",
    "    x = int(input())\n",
    "    y = int(input())\n",
    "    z = int(input())\n",
    "    n = int(input())\n",
    "\n",
    "    print(valid_coordinate(x,y,z,n))\n"
   ]
  },
  {
   "cell_type": "code",
   "execution_count": 123,
   "metadata": {},
   "outputs": [
    {
     "name": "stdout",
     "output_type": "stream",
     "text": [
      "10\n"
     ]
    }
   ],
   "source": [
    "def runner_up(arr):\n",
    "    a = set(arr)\n",
    "    return sorted(list(a))[-2]\n",
    "    \n",
    "\n",
    "if __name__ == '__main__':\n",
    "    n = int(input())\n",
    "    arr = map(int, input().split())\n",
    "    print(runner_up(arr))\n"
   ]
  },
  {
   "cell_type": "code",
   "execution_count": 151,
   "metadata": {},
   "outputs": [
    {
     "name": "stdout",
     "output_type": "stream",
     "text": [
      "169.375\n"
     ]
    }
   ],
   "source": [
    "def average(arr):\n",
    "    arr = set(arr)\n",
    "    avg = sum(arr)/len(arr)\n",
    "    return avg\n",
    "    \n",
    "\n",
    "if __name__ == '__main__':\n",
    "    n = int(input())\n",
    "    arr = list(map(int, input().split()))\n",
    "    result = average(arr)\n",
    "    print(result)"
   ]
  },
  {
   "cell_type": "code",
   "execution_count": 180,
   "metadata": {},
   "outputs": [
    {
     "name": "stdout",
     "output_type": "stream",
     "text": [
      "5\n"
     ]
    }
   ],
   "source": [
    "m = int(input())\n",
    "a = set(map(int, input().split()))\n",
    "n = int(input())\n",
    "b = set(map(int, input().split()))\n",
    "g = sorted(a.symmetric_difference(b))\n",
    "for i in g:\n",
    "    print(i)"
   ]
  },
  {
   "cell_type": "code",
   "execution_count": 185,
   "metadata": {},
   "outputs": [
    {
     "name": "stdout",
     "output_type": "stream",
     "text": [
      "1\n"
     ]
    }
   ],
   "source": [
    "n = map(int, input().split())\n",
    "m = list(map(int, input().split()))\n",
    "a = set(map(int, input().split()))\n",
    "b = set(map(int, input().split()))\n",
    "\n",
    "score = 0\n",
    "for i in m:\n",
    "    if i in a:\n",
    "        score += 1\n",
    "    elif i in b:\n",
    "        score -= 1\n",
    "    else:\n",
    "        pass\n",
    "    \n",
    "print(score)\n"
   ]
  },
  {
   "cell_type": "code",
   "execution_count": 194,
   "metadata": {},
   "outputs": [
    {
     "name": "stdout",
     "output_type": "stream",
     "text": [
      "[(1, 3), (1, 4), (2, 3), (2, 4)]\n"
     ]
    }
   ],
   "source": [
    "from itertools import permutations\n",
    "\n",
    "A = map(str, input().strip())\n",
    "n = \n",
    "\n",
    "prod = list(permutations(A, B))\n",
    "l = []\n",
    "for i in prod:\n",
    "    l.append(i)\n",
    "\n",
    "print(l)\n",
    "\n"
   ]
  },
  {
   "cell_type": "code",
   "execution_count": null,
   "metadata": {},
   "outputs": [],
   "source": [
    "from itertools import permutations\n",
    "A = input().split()\n",
    "A, k= A[0].upper(), int(A[1])\n",
    "perm = sorted(permutations(A,k))\n",
    "\n",
    "for i in perm:\n",
    "    print(''.join(i))"
   ]
  },
  {
   "cell_type": "code",
   "execution_count": null,
   "metadata": {},
   "outputs": [],
   "source": [
    "from itertools import combinations\n",
    "A = input().split()\n",
    "A, j= A[0].upper(), int(A[1])\n",
    "k_list = [a for a in range(1,j+1)]\n",
    "\n",
    "for k in k_list:\n",
    "    comb = (combinations(sorted(A),k))\n",
    "    for i in comb:\n",
    "        print(''.join(sorted(i)))"
   ]
  },
  {
   "cell_type": "code",
   "execution_count": 337,
   "metadata": {},
   "outputs": [
    {
     "name": "stdout",
     "output_type": "stream",
     "text": [
      "(1, 1) (3, 2) (1, 3) (2, 1)\n"
     ]
    }
   ],
   "source": [
    "from itertools import groupby\n",
    "\n",
    "A = input()\n",
    "comp_str = []\n",
    "for i,j in groupby(A):\n",
    "    count = len(list(j))\n",
    "    comp_str.append((count, int(i)))\n",
    "\n",
    "print(\" \".join([str(i) for i in comp_str]))\n"
   ]
  },
  {
   "cell_type": "code",
   "execution_count": 348,
   "metadata": {},
   "outputs": [],
   "source": [
    "from itertools import combinations\n",
    "n = int(input())\n",
    "A = input().split()\n",
    "k1 = int(input())\n",
    "k_list = [a for a in range(1,k1+1)]\n",
    "count = 0\n",
    "for k in k_list:\n",
    "    comb = (combinations(sorted(A),k))\n",
    "    for i in comb:\n",
    "        if A[k] in i:\n",
    "            count += 1\n",
    "        else:\n",
    "            break\n",
    "\n",
    "len_comb = len([i for i in comb])\n",
    "probability = count/len_comb\n",
    "\n",
    "\n"
   ]
  },
  {
   "cell_type": "code",
   "execution_count": 350,
   "metadata": {},
   "outputs": [
    {
     "data": {
      "text/plain": [
       "2"
      ]
     },
     "execution_count": 350,
     "metadata": {},
     "output_type": "execute_result"
    }
   ],
   "source": [
    "count"
   ]
  },
  {
   "cell_type": "code",
   "execution_count": 349,
   "metadata": {},
   "outputs": [
    {
     "data": {
      "text/plain": [
       "0.4"
      ]
     },
     "execution_count": 349,
     "metadata": {},
     "output_type": "execute_result"
    }
   ],
   "source": [
    "probability"
   ]
  }
 ],
 "metadata": {
  "kernelspec": {
   "display_name": "Python 3",
   "language": "python",
   "name": "python3"
  },
  "language_info": {
   "codemirror_mode": {
    "name": "ipython",
    "version": 3
   },
   "file_extension": ".py",
   "mimetype": "text/x-python",
   "name": "python",
   "nbconvert_exporter": "python",
   "pygments_lexer": "ipython3",
   "version": "3.8.10"
  },
  "orig_nbformat": 4
 },
 "nbformat": 4,
 "nbformat_minor": 2
}
