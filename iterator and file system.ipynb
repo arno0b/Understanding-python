{
 "cells": [
  {
   "cell_type": "markdown",
   "metadata": {},
   "source": [
    "## Iterator, Generator and File system ##"
   ]
  },
  {
   "cell_type": "markdown",
   "metadata": {},
   "source": [
    "```python\n",
    "We have to convert iterable oject into iterator before extracting.\n",
    "With help of iter function we can do the conversion.\n",
    "Then next is used for extracting\n",
    "```"
   ]
  },
  {
   "cell_type": "markdown",
   "metadata": {},
   "source": [
    "```python\n",
    "how 'for' loop works\n",
    "lists, tuples and string is by default iterable object\n",
    "example:\n",
    "```"
   ]
  },
  {
   "cell_type": "code",
   "execution_count": 22,
   "metadata": {},
   "outputs": [],
   "source": [
    "l = [1,33,4,25,233,63]"
   ]
  },
  {
   "cell_type": "code",
   "execution_count": 23,
   "metadata": {},
   "outputs": [],
   "source": [
    "l = iter(l)"
   ]
  },
  {
   "cell_type": "code",
   "execution_count": 24,
   "metadata": {},
   "outputs": [
    {
     "data": {
      "text/plain": [
       "(1, 33, 4, 25, 233, 63)"
      ]
     },
     "execution_count": 24,
     "metadata": {},
     "output_type": "execute_result"
    }
   ],
   "source": [
    "next(l),next(l),next(l),next(l),next(l),next(l)"
   ]
  },
  {
   "cell_type": "code",
   "execution_count": 25,
   "metadata": {},
   "outputs": [
    {
     "ename": "StopIteration",
     "evalue": "",
     "output_type": "error",
     "traceback": [
      "\u001b[1;31m---------------------------------------------------------------------------\u001b[0m",
      "\u001b[1;31mStopIteration\u001b[0m                             Traceback (most recent call last)",
      "\u001b[1;32mC:\\Users\\TECHLA~1\\AppData\\Local\\Temp/ipykernel_15300/2016234150.py\u001b[0m in \u001b[0;36m<module>\u001b[1;34m\u001b[0m\n\u001b[1;32m----> 1\u001b[1;33m \u001b[0mnext\u001b[0m\u001b[1;33m(\u001b[0m\u001b[0ml\u001b[0m\u001b[1;33m)\u001b[0m\u001b[1;33m\u001b[0m\u001b[1;33m\u001b[0m\u001b[0m\n\u001b[0m",
      "\u001b[1;31mStopIteration\u001b[0m: "
     ]
    }
   ],
   "source": [
    "next(l)"
   ]
  },
  {
   "cell_type": "markdown",
   "metadata": {},
   "source": [
    "### Generator ###"
   ]
  },
  {
   "cell_type": "markdown",
   "metadata": {},
   "source": [
    "generator does not remember all the previous values, just remembers the last value and logic."
   ]
  },
  {
   "cell_type": "code",
   "execution_count": 42,
   "metadata": {},
   "outputs": [],
   "source": [
    "def gencube(n):\n",
    "    l1 = []\n",
    "    for i in range(n):\n",
    "        l1.append(i**3)\n",
    "    return l1"
   ]
  },
  {
   "cell_type": "code",
   "execution_count": 2,
   "metadata": {},
   "outputs": [
    {
     "data": {
      "text/plain": [
       "<generator object gencube at 0x000001D9193DC4A0>"
      ]
     },
     "execution_count": 2,
     "metadata": {},
     "output_type": "execute_result"
    }
   ],
   "source": [
    "gencube(6)"
   ]
  },
  {
   "cell_type": "markdown",
   "metadata": {},
   "source": [
    "increasing the number significantly in the function increases the runtime. the memory consumption will be increased as it is appending the item to the existing list one by one through holding each of them. it wont stop until it gives whole list. so optimization is required."
   ]
  },
  {
   "cell_type": "code",
   "execution_count": null,
   "metadata": {},
   "outputs": [],
   "source": [
    "range(0,10000000)\n",
    "for i in range(0,10000000):\n",
    "    print(i)\n"
   ]
  },
  {
   "cell_type": "markdown",
   "metadata": {},
   "source": [
    "if we use print instead of return in the functiion, it will return nonetype. so we cant use print as an alternative of . the alternative is to produce a range like function which is 'yield'"
   ]
  },
  {
   "cell_type": "code",
   "execution_count": 1,
   "metadata": {},
   "outputs": [],
   "source": [
    "def gencube(n):\n",
    "\n",
    "    for i in range(n):\n",
    "        yield i**3\n"
   ]
  },
  {
   "cell_type": "code",
   "execution_count": 3,
   "metadata": {},
   "outputs": [
    {
     "data": {
      "text/plain": [
       "<generator object gencube at 0x000001D9193DC5F0>"
      ]
     },
     "execution_count": 3,
     "metadata": {},
     "output_type": "execute_result"
    }
   ],
   "source": [
    "gencube(6000)"
   ]
  },
  {
   "cell_type": "code",
   "execution_count": null,
   "metadata": {},
   "outputs": [],
   "source": [
    "for i in gencube(6000):\n",
    "    print(i)"
   ]
  },
  {
   "cell_type": "markdown",
   "metadata": {},
   "source": [
    "fibonacci 1"
   ]
  },
  {
   "cell_type": "code",
   "execution_count": 1,
   "metadata": {},
   "outputs": [],
   "source": [
    "def gen_fib(n):\n",
    "    a = 1\n",
    "    b = 1\n",
    "    for i in range(n):\n",
    "        yield a,i\n",
    "        a = b\n",
    "        b = a+b"
   ]
  },
  {
   "cell_type": "code",
   "execution_count": 3,
   "metadata": {},
   "outputs": [
    {
     "name": "stdout",
     "output_type": "stream",
     "text": [
      "(1, 0)\n",
      "(1, 1)\n",
      "(2, 2)\n",
      "(4, 3)\n",
      "(8, 4)\n",
      "(16, 5)\n",
      "(32, 6)\n",
      "(64, 7)\n",
      "(128, 8)\n",
      "(256, 9)\n",
      "(512, 10)\n",
      "(1024, 11)\n",
      "(2048, 12)\n",
      "(4096, 13)\n",
      "(8192, 14)\n",
      "(16384, 15)\n",
      "(32768, 16)\n",
      "(65536, 17)\n",
      "(131072, 18)\n",
      "(262144, 19)\n",
      "(524288, 20)\n",
      "(1048576, 21)\n",
      "(2097152, 22)\n",
      "(4194304, 23)\n",
      "(8388608, 24)\n",
      "(16777216, 25)\n",
      "(33554432, 26)\n",
      "(67108864, 27)\n",
      "(134217728, 28)\n",
      "(268435456, 29)\n",
      "(536870912, 30)\n",
      "(1073741824, 31)\n",
      "(2147483648, 32)\n",
      "(4294967296, 33)\n",
      "(8589934592, 34)\n",
      "(17179869184, 35)\n",
      "(34359738368, 36)\n",
      "(68719476736, 37)\n",
      "(137438953472, 38)\n",
      "(274877906944, 39)\n",
      "(549755813888, 40)\n",
      "(1099511627776, 41)\n",
      "(2199023255552, 42)\n",
      "(4398046511104, 43)\n",
      "(8796093022208, 44)\n",
      "(17592186044416, 45)\n",
      "(35184372088832, 46)\n",
      "(70368744177664, 47)\n",
      "(140737488355328, 48)\n",
      "(281474976710656, 49)\n"
     ]
    }
   ],
   "source": [
    "for i in gen_fib(50):\n",
    "    print(i)"
   ]
  },
  {
   "cell_type": "markdown",
   "metadata": {},
   "source": [
    "fibonacci 2"
   ]
  },
  {
   "cell_type": "code",
   "execution_count": 4,
   "metadata": {},
   "outputs": [],
   "source": [
    "def gen_fib1(n):\n",
    "    a = 1\n",
    "    b = 1\n",
    "    l = []\n",
    "    for i in range(n):\n",
    "        l.append(a)\n",
    "        a = b\n",
    "        b = a+b\n",
    "    return l"
   ]
  },
  {
   "cell_type": "code",
   "execution_count": 5,
   "metadata": {},
   "outputs": [
    {
     "data": {
      "text/plain": [
       "[1, 1, 2, 4, 8, 16, 32, 64, 128, 256, 512]"
      ]
     },
     "execution_count": 5,
     "metadata": {},
     "output_type": "execute_result"
    }
   ],
   "source": [
    "gen_fib1(11)"
   ]
  },
  {
   "cell_type": "markdown",
   "metadata": {},
   "source": [
    "remarks: fibonacci 2 will be more memory heavy"
   ]
  },
  {
   "cell_type": "markdown",
   "metadata": {},
   "source": [
    "```python\n",
    "Sample use-cases\n",
    "\n",
    "Let’s say we have to fetch 100K records of item numbers from an inventory. The beauty of this function is it creates a generator, it does not hold entire records in memory and yield one item number at a time whereas iterators load entire 100K records of item number in a memory and then iterate the process. This way it improves the performance efficiently.\n",
    "```"
   ]
  },
  {
   "cell_type": "markdown",
   "metadata": {},
   "source": [
    "Example 1: Using generator, find the squares of numbers\n",
    "\n"
   ]
  },
  {
   "cell_type": "code",
   "execution_count": 20,
   "metadata": {},
   "outputs": [
    {
     "name": "stdout",
     "output_type": "stream",
     "text": [
      "25\n",
      "625\n",
      "900\n",
      "2500\n"
     ]
    },
    {
     "ename": "StopIteration",
     "evalue": "",
     "output_type": "error",
     "traceback": [
      "\u001b[1;31m---------------------------------------------------------------------------\u001b[0m",
      "\u001b[1;31mStopIteration\u001b[0m                             Traceback (most recent call last)",
      "\u001b[1;32mC:\\Users\\TECHLA~1\\AppData\\Local\\Temp/ipykernel_4044/3963669916.py\u001b[0m in \u001b[0;36m<module>\u001b[1;34m\u001b[0m\n\u001b[0;32m      8\u001b[0m \u001b[0mprint\u001b[0m\u001b[1;33m(\u001b[0m\u001b[0mnext\u001b[0m\u001b[1;33m(\u001b[0m\u001b[0mnums\u001b[0m\u001b[1;33m)\u001b[0m\u001b[1;33m)\u001b[0m\u001b[1;33m\u001b[0m\u001b[1;33m\u001b[0m\u001b[0m\n\u001b[0;32m      9\u001b[0m \u001b[0mprint\u001b[0m\u001b[1;33m(\u001b[0m\u001b[0mnext\u001b[0m\u001b[1;33m(\u001b[0m\u001b[0mnums\u001b[0m\u001b[1;33m)\u001b[0m\u001b[1;33m)\u001b[0m\u001b[1;33m\u001b[0m\u001b[1;33m\u001b[0m\u001b[0m\n\u001b[1;32m---> 10\u001b[1;33m \u001b[0mprint\u001b[0m\u001b[1;33m(\u001b[0m\u001b[0mnext\u001b[0m\u001b[1;33m(\u001b[0m\u001b[0mnums\u001b[0m\u001b[1;33m)\u001b[0m\u001b[1;33m)\u001b[0m\u001b[1;33m\u001b[0m\u001b[1;33m\u001b[0m\u001b[0m\n\u001b[0m",
      "\u001b[1;31mStopIteration\u001b[0m: "
     ]
    }
   ],
   "source": [
    "def square_of_numbers(n):\n",
    "    for i in n:\n",
    "        yield(i*i)\n",
    "    \n",
    "nums=square_of_numbers([5,25,30,50])\n",
    "print(next(nums))\n",
    "print(next(nums))\n",
    "print(next(nums))\n",
    "print(next(nums))\n",
    "print(next(nums))"
   ]
  },
  {
   "cell_type": "markdown",
   "metadata": {},
   "source": [
    "Example 2 : Compare the Memory performance of Normal functions and Generators"
   ]
  },
  {
   "cell_type": "code",
   "execution_count": null,
   "metadata": {},
   "outputs": [],
   "source": [
    "# Check the memory performance using Normal functions\n",
    "import memory_profiler as mem_profile\n",
    "brand_name=[“Apple”,”Sony”,”Samsung”]\n",
    "price=[“90K”,”40K”,”30K”]\n",
    "def product_list(n):\n",
    " output=[]\n",
    " for i in range(n):\n",
    " product={“id”:i,\n",
    " “Brand_name”:brand_name[0],\n",
    " “Price”:price[0]}\n",
    " output.append(product)\n",
    " return output\n",
    "print(“Using Normal function”)\n",
    "print(‘Memory (Before): ‘ + str(mem_profile.memory_usage()) + ‘MB’ )\n",
    "list_of_order=product_list(10000000)\n",
    "print(‘Memory (After): ‘ + str(mem_profile.memory_usage()) + ‘MB’ )\n",
    "Using Normal function\n",
    "Memory (Before): [51.55078125]MB\n",
    "Memory (After): [2757.78515625]MB\n",
    "Base memory was around 51 MB and after program execution it is approximately 2757 MB.\n",
    "# Check the memory performance using Generators\n",
    "import memory_profiler as mem_profile\n",
    "print(“Using generators”)\n",
    "brand_name=[“Apple”,”Sony”,”Samsung”]\n",
    "price=[“90K”,”40K”,”30K”]\n",
    "def product_list(n):\n",
    " for i in xrange(n):\n",
    " product={\n",
    " “id”:i,\n",
    " “Brand_name”:brand_name[0],\n",
    " “Price”:price[0]\n",
    " }\n",
    " yield product\n",
    "print(‘Memory (Before): ‘ + str(mem_profile.memory_usage()) + ‘MB’ ) \n",
    "list_of_order=product_list(5)\n",
    "print(‘Memory (After): ‘ + str(mem_profile.memory_usage()) + ‘MB’ )\n",
    "\n"
   ]
  },
  {
   "cell_type": "markdown",
   "metadata": {},
   "source": [
    "### File system ##"
   ]
  },
  {
   "cell_type": "code",
   "execution_count": 7,
   "metadata": {},
   "outputs": [],
   "source": [
    "f = open('test.txt','w')\n"
   ]
  },
  {
   "cell_type": "code",
   "execution_count": 8,
   "metadata": {},
   "outputs": [
    {
     "name": "stdout",
     "output_type": "stream",
     "text": [
      " Volume in drive C is System\n",
      " Volume Serial Number is 3402-87DC\n",
      "\n",
      " Directory of c:\\Users\\Tech Land\\Downloads\\code\\ineuron\\python\\python fundamentals\n",
      "\n",
      "11/09/2022  07:31 PM    <DIR>          .\n",
      "11/09/2022  07:31 PM    <DIR>          ..\n",
      "11/09/2022  07:14 PM    <DIR>          assignment\n",
      "11/01/2022  11:28 PM             3,146 atb.ipynb\n",
      "11/09/2022  02:05 AM            29,755 function.ipynb\n",
      "11/09/2022  03:30 AM             7,990 iterator and file system.ipynb\n",
      "11/01/2022  11:28 PM            29,031 loop.ipynb\n",
      "11/09/2022  07:35 PM                 0 test.txt\n",
      "11/01/2022  11:28 PM            34,973 tut.ipynb\n",
      "               6 File(s)        104,895 bytes\n",
      "               3 Dir(s)  62,653,677,568 bytes free\n"
     ]
    }
   ],
   "source": [
    "%ls"
   ]
  },
  {
   "cell_type": "code",
   "execution_count": 9,
   "metadata": {},
   "outputs": [
    {
     "data": {
      "text/plain": [
       "'c:\\\\Users\\\\Tech Land\\\\Downloads\\\\code\\\\ineuron\\\\python\\\\python fundamentals'"
      ]
     },
     "execution_count": 9,
     "metadata": {},
     "output_type": "execute_result"
    }
   ],
   "source": [
    "pwd()"
   ]
  },
  {
   "cell_type": "markdown",
   "metadata": {},
   "source": [
    "For writing"
   ]
  },
  {
   "cell_type": "code",
   "execution_count": 10,
   "metadata": {},
   "outputs": [
    {
     "data": {
      "text/plain": [
       "31"
      ]
     },
     "execution_count": 10,
     "metadata": {},
     "output_type": "execute_result"
    }
   ],
   "source": [
    " f.write('this is my first file operation')"
   ]
  },
  {
   "cell_type": "markdown",
   "metadata": {},
   "source": [
    "it is necessary to close the file for saving them"
   ]
  },
  {
   "cell_type": "code",
   "execution_count": 11,
   "metadata": {},
   "outputs": [],
   "source": [
    "f.close()"
   ]
  },
  {
   "cell_type": "markdown",
   "metadata": {},
   "source": [
    "another way"
   ]
  },
  {
   "cell_type": "code",
   "execution_count": 15,
   "metadata": {},
   "outputs": [
    {
     "name": "stdout",
     "output_type": "stream",
     "text": [
      "Overwriting test.txt\n"
     ]
    }
   ],
   "source": [
    "%%writefile test.txt\n",
    "this is the 2nd version to be stored"
   ]
  },
  {
   "cell_type": "code",
   "execution_count": 16,
   "metadata": {},
   "outputs": [
    {
     "name": "stdout",
     "output_type": "stream",
     "text": [
      " Volume in drive C is System\n",
      " Volume Serial Number is 3402-87DC\n",
      "\n",
      " Directory of c:\\Users\\Tech Land\\Downloads\\code\\ineuron\\python\\python fundamentals\n",
      "\n",
      "11/09/2022  07:31 PM    <DIR>          .\n",
      "11/09/2022  07:31 PM    <DIR>          ..\n",
      "11/09/2022  07:14 PM    <DIR>          assignment\n",
      "11/01/2022  11:28 PM             3,146 atb.ipynb\n",
      "11/09/2022  02:05 AM            29,755 function.ipynb\n",
      "11/09/2022  03:30 AM             7,990 iterator and file system.ipynb\n",
      "11/01/2022  11:28 PM            29,031 loop.ipynb\n",
      "11/09/2022  07:44 PM                38 test.txt\n",
      "11/01/2022  11:28 PM            34,973 tut.ipynb\n",
      "               6 File(s)        104,933 bytes\n",
      "               3 Dir(s)  62,341,804,032 bytes free\n"
     ]
    }
   ],
   "source": [
    "%ls"
   ]
  },
  {
   "cell_type": "markdown",
   "metadata": {},
   "source": [
    "For reading"
   ]
  },
  {
   "cell_type": "code",
   "execution_count": 19,
   "metadata": {},
   "outputs": [
    {
     "data": {
      "text/plain": [
       "'this is the 2nd version to be stored\\n'"
      ]
     },
     "execution_count": 19,
     "metadata": {},
     "output_type": "execute_result"
    }
   ],
   "source": [
    "f = open('test.txt')\n",
    "f.read()"
   ]
  },
  {
   "cell_type": "markdown",
   "metadata": {},
   "source": [
    "after reading, the cursor stops at the end"
   ]
  },
  {
   "cell_type": "code",
   "execution_count": 20,
   "metadata": {},
   "outputs": [
    {
     "data": {
      "text/plain": [
       "''"
      ]
     },
     "execution_count": 20,
     "metadata": {},
     "output_type": "execute_result"
    }
   ],
   "source": [
    "f.read()"
   ]
  },
  {
   "cell_type": "markdown",
   "metadata": {},
   "source": [
    "Doesnt work if opened on read mode\n"
   ]
  },
  {
   "cell_type": "code",
   "execution_count": 18,
   "metadata": {},
   "outputs": [
    {
     "ename": "UnsupportedOperation",
     "evalue": "not writable",
     "output_type": "error",
     "traceback": [
      "\u001b[1;31m---------------------------------------------------------------------------\u001b[0m",
      "\u001b[1;31mUnsupportedOperation\u001b[0m                      Traceback (most recent call last)",
      "\u001b[1;32mC:\\Users\\TECHLA~1\\AppData\\Local\\Temp/ipykernel_9068/934607032.py\u001b[0m in \u001b[0;36m<module>\u001b[1;34m\u001b[0m\n\u001b[1;32m----> 1\u001b[1;33m \u001b[0mf\u001b[0m\u001b[1;33m.\u001b[0m\u001b[0mwrite\u001b[0m\u001b[1;33m(\u001b[0m\u001b[1;34m'AEFGAGASEG'\u001b[0m\u001b[1;33m)\u001b[0m\u001b[1;33m\u001b[0m\u001b[1;33m\u001b[0m\u001b[0m\n\u001b[0m",
      "\u001b[1;31mUnsupportedOperation\u001b[0m: not writable"
     ]
    }
   ],
   "source": [
    "f.write('AEFGAGASEG')"
   ]
  },
  {
   "cell_type": "markdown",
   "metadata": {},
   "source": [
    "To reset the cursor"
   ]
  },
  {
   "cell_type": "code",
   "execution_count": 23,
   "metadata": {},
   "outputs": [
    {
     "data": {
      "text/plain": [
       "0"
      ]
     },
     "execution_count": 23,
     "metadata": {},
     "output_type": "execute_result"
    }
   ],
   "source": [
    "f.seek(0)"
   ]
  },
  {
   "cell_type": "code",
   "execution_count": 24,
   "metadata": {},
   "outputs": [
    {
     "data": {
      "text/plain": [
       "'this is the 2nd version to be stored\\n'"
      ]
     },
     "execution_count": 24,
     "metadata": {},
     "output_type": "execute_result"
    }
   ],
   "source": [
    "f.read()"
   ]
  },
  {
   "cell_type": "code",
   "execution_count": 25,
   "metadata": {},
   "outputs": [
    {
     "data": {
      "text/plain": [
       "5"
      ]
     },
     "execution_count": 25,
     "metadata": {},
     "output_type": "execute_result"
    }
   ],
   "source": [
    "f.seek(5)"
   ]
  },
  {
   "cell_type": "code",
   "execution_count": 26,
   "metadata": {},
   "outputs": [
    {
     "data": {
      "text/plain": [
       "'is the 2nd version to be stored\\n'"
      ]
     },
     "execution_count": 26,
     "metadata": {},
     "output_type": "execute_result"
    }
   ],
   "source": [
    "f.read()"
   ]
  },
  {
   "cell_type": "markdown",
   "metadata": {},
   "source": [
    "to know the cursor position\n"
   ]
  },
  {
   "cell_type": "code",
   "execution_count": 27,
   "metadata": {},
   "outputs": [
    {
     "data": {
      "text/plain": [
       "38"
      ]
     },
     "execution_count": 27,
     "metadata": {},
     "output_type": "execute_result"
    }
   ],
   "source": [
    "f.tell()"
   ]
  },
  {
   "cell_type": "code",
   "execution_count": 47,
   "metadata": {},
   "outputs": [],
   "source": [
    "f = open('test.txt', 'r+')"
   ]
  },
  {
   "cell_type": "code",
   "execution_count": 48,
   "metadata": {},
   "outputs": [
    {
     "data": {
      "text/plain": [
       "'this is the 2nd version to be stored.\\n2nd line\\nases\\naweg\\nawrhe\\nae\\nhnr\\na\\nern\\na\\n346tq\\nh43\\n4  \\nq3b6 q'"
      ]
     },
     "execution_count": 48,
     "metadata": {},
     "output_type": "execute_result"
    }
   ],
   "source": [
    "f.read()"
   ]
  },
  {
   "cell_type": "code",
   "execution_count": 59,
   "metadata": {},
   "outputs": [
    {
     "data": {
      "text/plain": [
       "0"
      ]
     },
     "execution_count": 59,
     "metadata": {},
     "output_type": "execute_result"
    }
   ],
   "source": [
    "f.seek(0)"
   ]
  },
  {
   "cell_type": "code",
   "execution_count": 60,
   "metadata": {},
   "outputs": [
    {
     "data": {
      "text/plain": [
       "'this is the 2nd version to be stored.\\n'"
      ]
     },
     "execution_count": 60,
     "metadata": {},
     "output_type": "execute_result"
    }
   ],
   "source": [
    "f.readline()"
   ]
  },
  {
   "cell_type": "code",
   "execution_count": 61,
   "metadata": {},
   "outputs": [
    {
     "data": {
      "text/plain": [
       "'2nd line\\n'"
      ]
     },
     "execution_count": 61,
     "metadata": {},
     "output_type": "execute_result"
    }
   ],
   "source": [
    "f.readline()"
   ]
  },
  {
   "cell_type": "code",
   "execution_count": 62,
   "metadata": {},
   "outputs": [
    {
     "data": {
      "text/plain": [
       "'ases\\n'"
      ]
     },
     "execution_count": 62,
     "metadata": {},
     "output_type": "execute_result"
    }
   ],
   "source": [
    "f.readline()"
   ]
  },
  {
   "cell_type": "markdown",
   "metadata": {},
   "source": [
    "Difference between readlines and read is readlines only read a single line"
   ]
  },
  {
   "cell_type": "code",
   "execution_count": 167,
   "metadata": {},
   "outputs": [],
   "source": [
    "f1 = open('google.txt','w')"
   ]
  },
  {
   "cell_type": "code",
   "execution_count": 168,
   "metadata": {},
   "outputs": [
    {
     "data": {
      "text/plain": [
       "2237"
      ]
     },
     "execution_count": 168,
     "metadata": {},
     "output_type": "execute_result"
    }
   ],
   "source": [
    "f1.write('''Google LLC is an American multinational technology company focusing on search engine technology, online advertising, cloud computing, computer software, quantum computing, e-commerce, artificial intelligence,[9] and consumer electronics. It has been referred to as \"the most powerful company in the world\"[10] and one of the world's most valuable brands due to its market dominance, data collection, and technological advantages in the area of artificial intelligence.[11][12][13] Its parent company Alphabet is considered one of the Big Five American information technology companies, alongside Amazon, Apple, Meta, and Microsoft.\n",
    "\n",
    "Google was founded on September 4, 1998, by Larry Page and Sergey Brin while they were PhD students at Stanford University in California. Together they own about 14% of its publicly listed shares and control 56% of the stockholder voting power through super-voting stock. The company went public via an initial public offering (IPO) in 2004. In 2015, Google was reorganized as a wholly owned subsidiary of Alphabet Inc. Google is Alphabet's largest subsidiary and is a holding company for Alphabet's Internet properties and interests. Sundar Pichai was appointed CEO of Google on October 24, 2015, replacing Larry Page, who became the CEO of Alphabet. On December 3, 2019, Pichai also became the CEO of Alphabet.[14]\n",
    "\n",
    "The company has since rapidly grown to offer a multitude of products and services beyond Google Search, many of which hold dominant market positions. These products address a wide range of use cases, including email (Gmail), navigation (Waze & Maps), cloud computing (Cloud), web browsing (Chrome), video sharing (YouTube), productivity (Workspace), operating systems (Android), cloud storage (Drive), language translation (Translate), photo storage (Photos), video calling (Meet), smart home (Nest), smartphones (Pixel), wearable technology (Pixel Watch & Fitbit), music streaming (YouTube Music), video on demand (YouTube TV), artificial intelligence (Google Assistant), machine learning APIs (TensorFlow), AI chips (TPU), and more. Discontinued Google products include gaming (Stadia), Glass,[citation needed] Google+, Reader, Play Music, Nexus, Hangouts, and Inbox by Gmail.[15][16]''')"
   ]
  },
  {
   "cell_type": "code",
   "execution_count": 169,
   "metadata": {},
   "outputs": [],
   "source": [
    "f1.close()"
   ]
  },
  {
   "cell_type": "code",
   "execution_count": 107,
   "metadata": {},
   "outputs": [],
   "source": [
    "f1 = open('google.txt','r+')"
   ]
  },
  {
   "cell_type": "code",
   "execution_count": 108,
   "metadata": {},
   "outputs": [
    {
     "data": {
      "text/plain": [
       "'Google LLC is an American multinational technology company focusing on search engine technology, online advertising, cloud computing, computer software, quantum computing, e-commerce, artificial intelligence,[9] and consumer electronics. It has been referred to as \"the most powerful company in the world\"[10] and one of the world\\'s most valuable brands due to its market dominance, data collection, and technological advantages in the area of artificial intelligence.[11][12][13] Its parent company Alphabet is considered one of the Big Five American information technology companies, alongside Amazon, Apple, Meta, and Microsoft.\\n\\nGoogle was founded on September 4, 1998, by Larry Page and Sergey Brin while they were PhD students at Stanford University in California. Together they own about 14% of its publicly listed shares and control 56% of the stockholder voting power through super-voting stock. The company went public via an initial public offering (IPO) in 2004. In 2015, Google was reorganized as a wholly owned subsidiary of Alphabet Inc. Google is Alphabet\\'s largest subsidiary and is a holding company for Alphabet\\'s Internet properties and interests. Sundar Pichai was appointed CEO of Google on October 24, 2015, replacing Larry Page, who became the CEO of Alphabet. On December 3, 2019, Pichai also became the CEO of Alphabet.[14]\\n\\nThe company has since rapidly grown to offer a multitude of products and services beyond Google Search, many of which hold dominant market positions. These products address a wide range of use cases, including email (Gmail), navigation (Waze & Maps), cloud computing (Cloud), web browsing (Chrome), video sharing (YouTube), productivity (Workspace), operating systems (Android), cloud storage (Drive), language translation (Translate), photo storage (Photos), video calling (Meet), smart home (Nest), smartphones (Pixel), wearable technology (Pixel Watch & Fitbit), music streaming (YouTube Music), video on demand (YouTube TV), artificial intelligence (Google Assistant), machine learning APIs (TensorFlow), AI chips (TPU), and more. Discontinued Google products include gaming (Stadia), Glass,[citation needed] Google+, Reader, Play Music, Nexus, Hangouts, and Inbox by Gmail.[15][16]'"
      ]
     },
     "execution_count": 108,
     "metadata": {},
     "output_type": "execute_result"
    }
   ],
   "source": [
    "f1.read()"
   ]
  },
  {
   "cell_type": "code",
   "execution_count": 109,
   "metadata": {},
   "outputs": [
    {
     "name": "stdout",
     "output_type": "stream",
     "text": [
      "Google LLC is an American multinational technology company focusing on search engine technology, online advertising, cloud computing, computer software, quantum computing, e-commerce, artificial intelligence,[9] and consumer electronics. It has been referred to as \"the most powerful company in the world\"[10] and one of the world's most valuable brands due to its market dominance, data collection, and technological advantages in the area of artificial intelligence.[11][12][13] Its parent company Alphabet is considered one of the Big Five American information technology companies, alongside Amazon, Apple, Meta, and Microsoft.\n",
      " \n",
      " Google was founded on September 4, 1998, by Larry Page and Sergey Brin while they were PhD students at Stanford University in California. Together they own about 14% of its publicly listed shares and control 56% of the stockholder voting power through super-voting stock. The company went public via an initial public offering (IPO) in 2004. In 2015, Google was reorganized as a wholly owned subsidiary of Alphabet Inc. Google is Alphabet's largest subsidiary and is a holding company for Alphabet's Internet properties and interests. Sundar Pichai was appointed CEO of Google on October 24, 2015, replacing Larry Page, who became the CEO of Alphabet. On December 3, 2019, Pichai also became the CEO of Alphabet.[14]\n",
      " \n",
      " The company has since rapidly grown to offer a multitude of products and services beyond Google Search, many of which hold dominant market positions. These products address a wide range of use cases, including email (Gmail), navigation (Waze & Maps), cloud computing (Cloud), web browsing (Chrome), video sharing (YouTube), productivity (Workspace), operating systems (Android), cloud storage (Drive), language translation (Translate), photo storage (Photos), video calling (Meet), smart home (Nest), smartphones (Pixel), wearable technology (Pixel Watch & Fitbit), music streaming (YouTube Music), video on demand (YouTube TV), artificial intelligence (Google Assistant), machine learning APIs (TensorFlow), AI chips (TPU), and more. Discontinued Google products include gaming (Stadia), Glass,[citation needed] Google+, Reader, Play Music, Nexus, Hangouts, and Inbox by Gmail.[15][16] "
     ]
    }
   ],
   "source": [
    "f1 = open('google.txt','r+')\n",
    "for line in f1:\n",
    "    print(line, end=' ')"
   ]
  },
  {
   "cell_type": "code",
   "execution_count": 120,
   "metadata": {},
   "outputs": [],
   "source": [
    "f1 = open('google.txt','r+')\n"
   ]
  },
  {
   "cell_type": "code",
   "execution_count": 121,
   "metadata": {},
   "outputs": [
    {
     "data": {
      "text/plain": [
       "5"
      ]
     },
     "execution_count": 121,
     "metadata": {},
     "output_type": "execute_result"
    }
   ],
   "source": [
    "len(f1.readlines())"
   ]
  },
  {
   "cell_type": "code",
   "execution_count": 126,
   "metadata": {},
   "outputs": [],
   "source": [
    "l = f1.readlines()"
   ]
  },
  {
   "cell_type": "code",
   "execution_count": 127,
   "metadata": {},
   "outputs": [
    {
     "data": {
      "text/plain": [
       "['Google LLC is an American multinational technology company focusing on search engine technology, online advertising, cloud computing, computer software, quantum computing, e-commerce, artificial intelligence,[9] and consumer electronics. It has been referred to as \"the most powerful company in the world\"[10] and one of the world\\'s most valuable brands due to its market dominance, data collection, and technological advantages in the area of artificial intelligence.[11][12][13] Its parent company Alphabet is considered one of the Big Five American information technology companies, alongside Amazon, Apple, Meta, and Microsoft.\\n',\n",
       " '\\n',\n",
       " \"Google was founded on September 4, 1998, by Larry Page and Sergey Brin while they were PhD students at Stanford University in California. Together they own about 14% of its publicly listed shares and control 56% of the stockholder voting power through super-voting stock. The company went public via an initial public offering (IPO) in 2004. In 2015, Google was reorganized as a wholly owned subsidiary of Alphabet Inc. Google is Alphabet's largest subsidiary and is a holding company for Alphabet's Internet properties and interests. Sundar Pichai was appointed CEO of Google on October 24, 2015, replacing Larry Page, who became the CEO of Alphabet. On December 3, 2019, Pichai also became the CEO of Alphabet.[14]\\n\",\n",
       " '\\n',\n",
       " 'The company has since rapidly grown to offer a multitude of products and services beyond Google Search, many of which hold dominant market positions. These products address a wide range of use cases, including email (Gmail), navigation (Waze & Maps), cloud computing (Cloud), web browsing (Chrome), video sharing (YouTube), productivity (Workspace), operating systems (Android), cloud storage (Drive), language translation (Translate), photo storage (Photos), video calling (Meet), smart home (Nest), smartphones (Pixel), wearable technology (Pixel Watch & Fitbit), music streaming (YouTube Music), video on demand (YouTube TV), artificial intelligence (Google Assistant), machine learning APIs (TensorFlow), AI chips (TPU), and more. Discontinued Google products include gaming (Stadia), Glass,[citation needed] Google+, Reader, Play Music, Nexus, Hangouts, and Inbox by Gmail.[15][16]']"
      ]
     },
     "execution_count": 127,
     "metadata": {},
     "output_type": "execute_result"
    }
   ],
   "source": [
    "l"
   ]
  },
  {
   "cell_type": "code",
   "execution_count": 125,
   "metadata": {},
   "outputs": [
    {
     "data": {
      "text/plain": [
       "0"
      ]
     },
     "execution_count": 125,
     "metadata": {},
     "output_type": "execute_result"
    }
   ],
   "source": [
    "f1.seek(0)"
   ]
  },
  {
   "cell_type": "code",
   "execution_count": 128,
   "metadata": {},
   "outputs": [
    {
     "data": {
      "text/plain": [
       "'Google LLC is an American multinational technology company focusing on search engine technology, online advertising, cloud computing, computer software, quantum computing, e-commerce, artificial intelligence,[9] and consumer electronics. It has been referred to as \"the most powerful company in the world\"[10] and one of the world\\'s most valuable brands due to its market dominance, data collection, and technological advantages in the area of artificial intelligence.[11][12][13] Its parent company Alphabet is considered one of the Big Five American information technology companies, alongside Amazon, Apple, Meta, and Microsoft.\\n'"
      ]
     },
     "execution_count": 128,
     "metadata": {},
     "output_type": "execute_result"
    }
   ],
   "source": [
    "l[0]"
   ]
  },
  {
   "cell_type": "markdown",
   "metadata": {},
   "source": [
    "To get the list of all the words"
   ]
  },
  {
   "cell_type": "code",
   "execution_count": 136,
   "metadata": {},
   "outputs": [
    {
     "data": {
      "text/plain": [
       "['Google',\n",
       " 'LLC',\n",
       " 'is',\n",
       " 'an',\n",
       " 'American',\n",
       " 'multinational',\n",
       " 'technology',\n",
       " 'company',\n",
       " 'focusing',\n",
       " 'on',\n",
       " 'search',\n",
       " 'engine',\n",
       " 'technology,',\n",
       " 'online',\n",
       " 'advertising,',\n",
       " 'cloud',\n",
       " 'computing,',\n",
       " 'computer',\n",
       " 'software,',\n",
       " 'quantum',\n",
       " 'computing,',\n",
       " 'e-commerce,',\n",
       " 'artificial',\n",
       " 'intelligence,[9]',\n",
       " 'and',\n",
       " 'consumer',\n",
       " 'electronics.',\n",
       " 'It',\n",
       " 'has',\n",
       " 'been',\n",
       " 'referred',\n",
       " 'to',\n",
       " 'as',\n",
       " '\"the',\n",
       " 'most',\n",
       " 'powerful',\n",
       " 'company',\n",
       " 'in',\n",
       " 'the',\n",
       " 'world\"[10]',\n",
       " 'and',\n",
       " 'one',\n",
       " 'of',\n",
       " 'the',\n",
       " \"world's\",\n",
       " 'most',\n",
       " 'valuable',\n",
       " 'brands',\n",
       " 'due',\n",
       " 'to',\n",
       " 'its',\n",
       " 'market',\n",
       " 'dominance,',\n",
       " 'data',\n",
       " 'collection,',\n",
       " 'and',\n",
       " 'technological',\n",
       " 'advantages',\n",
       " 'in',\n",
       " 'the',\n",
       " 'area',\n",
       " 'of',\n",
       " 'artificial',\n",
       " 'intelligence.[11][12][13]',\n",
       " 'Its',\n",
       " 'parent',\n",
       " 'company',\n",
       " 'Alphabet',\n",
       " 'is',\n",
       " 'considered',\n",
       " 'one',\n",
       " 'of',\n",
       " 'the',\n",
       " 'Big',\n",
       " 'Five',\n",
       " 'American',\n",
       " 'information',\n",
       " 'technology',\n",
       " 'companies,',\n",
       " 'alongside',\n",
       " 'Amazon,',\n",
       " 'Apple,',\n",
       " 'Meta,',\n",
       " 'and',\n",
       " 'Microsoft.']"
      ]
     },
     "execution_count": 136,
     "metadata": {},
     "output_type": "execute_result"
    }
   ],
   "source": [
    "l[0].split()"
   ]
  },
  {
   "cell_type": "code",
   "execution_count": 137,
   "metadata": {},
   "outputs": [
    {
     "data": {
      "text/plain": [
       "['Google',\n",
       " 'LLC',\n",
       " 'is',\n",
       " 'an',\n",
       " 'American',\n",
       " 'multinational',\n",
       " 'technology',\n",
       " 'company',\n",
       " 'focusing',\n",
       " 'on',\n",
       " 'search',\n",
       " 'engine',\n",
       " 'technology,',\n",
       " 'online',\n",
       " 'advertising,',\n",
       " 'cloud',\n",
       " 'computing,',\n",
       " 'computer',\n",
       " 'software,',\n",
       " 'quantum',\n",
       " 'computing,',\n",
       " 'e-commerce,',\n",
       " 'artificial',\n",
       " 'intelligence,[9]',\n",
       " 'and',\n",
       " 'consumer',\n",
       " 'electronics.',\n",
       " 'It',\n",
       " 'has',\n",
       " 'been',\n",
       " 'referred',\n",
       " 'to',\n",
       " 'as',\n",
       " '\"the',\n",
       " 'most',\n",
       " 'powerful',\n",
       " 'company',\n",
       " 'in',\n",
       " 'the',\n",
       " 'world\"[10]',\n",
       " 'and',\n",
       " 'one',\n",
       " 'of',\n",
       " 'the',\n",
       " \"world's\",\n",
       " 'most',\n",
       " 'valuable',\n",
       " 'brands',\n",
       " 'due',\n",
       " 'to',\n",
       " 'its',\n",
       " 'market',\n",
       " 'dominance,',\n",
       " 'data',\n",
       " 'collection,',\n",
       " 'and',\n",
       " 'technological',\n",
       " 'advantages',\n",
       " 'in',\n",
       " 'the',\n",
       " 'area',\n",
       " 'of',\n",
       " 'artificial',\n",
       " 'intelligence.[11][12][13]',\n",
       " 'Its',\n",
       " 'parent',\n",
       " 'company',\n",
       " 'Alphabet',\n",
       " 'is',\n",
       " 'considered',\n",
       " 'one',\n",
       " 'of',\n",
       " 'the',\n",
       " 'Big',\n",
       " 'Five',\n",
       " 'American',\n",
       " 'information',\n",
       " 'technology',\n",
       " 'companies,',\n",
       " 'alongside',\n",
       " 'Amazon,',\n",
       " 'Apple,',\n",
       " 'Meta,',\n",
       " 'and',\n",
       " 'Microsoft.']"
      ]
     },
     "execution_count": 137,
     "metadata": {},
     "output_type": "execute_result"
    }
   ],
   "source": [
    "l[0].split()"
   ]
  },
  {
   "cell_type": "markdown",
   "metadata": {},
   "source": [
    "To get the first letter of the words"
   ]
  },
  {
   "cell_type": "code",
   "execution_count": 139,
   "metadata": {},
   "outputs": [
    {
     "data": {
      "text/plain": [
       "['G',\n",
       " 'L',\n",
       " 'i',\n",
       " 'a',\n",
       " 'A',\n",
       " 'm',\n",
       " 't',\n",
       " 'c',\n",
       " 'f',\n",
       " 'o',\n",
       " 's',\n",
       " 'e',\n",
       " 't',\n",
       " 'o',\n",
       " 'a',\n",
       " 'c',\n",
       " 'c',\n",
       " 'c',\n",
       " 's',\n",
       " 'q',\n",
       " 'c',\n",
       " 'e',\n",
       " 'a',\n",
       " 'i',\n",
       " 'a',\n",
       " 'c',\n",
       " 'e',\n",
       " 'I',\n",
       " 'h',\n",
       " 'b',\n",
       " 'r',\n",
       " 't',\n",
       " 'a',\n",
       " '\"',\n",
       " 'm',\n",
       " 'p',\n",
       " 'c',\n",
       " 'i',\n",
       " 't',\n",
       " 'w',\n",
       " 'a',\n",
       " 'o',\n",
       " 'o',\n",
       " 't',\n",
       " 'w',\n",
       " 'm',\n",
       " 'v',\n",
       " 'b',\n",
       " 'd',\n",
       " 't',\n",
       " 'i',\n",
       " 'm',\n",
       " 'd',\n",
       " 'd',\n",
       " 'c',\n",
       " 'a',\n",
       " 't',\n",
       " 'a',\n",
       " 'i',\n",
       " 't',\n",
       " 'a',\n",
       " 'o',\n",
       " 'a',\n",
       " 'i',\n",
       " 'I',\n",
       " 'p',\n",
       " 'c',\n",
       " 'A',\n",
       " 'i',\n",
       " 'c',\n",
       " 'o',\n",
       " 'o',\n",
       " 't',\n",
       " 'B',\n",
       " 'F',\n",
       " 'A',\n",
       " 'i',\n",
       " 't',\n",
       " 'c',\n",
       " 'a',\n",
       " 'A',\n",
       " 'A',\n",
       " 'M',\n",
       " 'a',\n",
       " 'M']"
      ]
     },
     "execution_count": 139,
     "metadata": {},
     "output_type": "execute_result"
    }
   ],
   "source": [
    "l1 = []\n",
    "for i in l[0].split():\n",
    "    l1.append(i[0])\n",
    "l1"
   ]
  },
  {
   "cell_type": "code",
   "execution_count": 140,
   "metadata": {},
   "outputs": [],
   "source": [
    "f1.close()"
   ]
  },
  {
   "cell_type": "code",
   "execution_count": 161,
   "metadata": {},
   "outputs": [],
   "source": [
    "f1 = open('test.txt','r+')\n"
   ]
  },
  {
   "cell_type": "code",
   "execution_count": 162,
   "metadata": {},
   "outputs": [],
   "source": [
    "l = ['this is my first line\\n', 'this is my 2nd line \\n', 'this is my 3rd line \\n']"
   ]
  },
  {
   "cell_type": "code",
   "execution_count": 163,
   "metadata": {},
   "outputs": [],
   "source": [
    "f1.writelines(l)"
   ]
  },
  {
   "cell_type": "markdown",
   "metadata": {},
   "source": [
    "the file index in the directory"
   ]
  },
  {
   "cell_type": "code",
   "execution_count": 164,
   "metadata": {},
   "outputs": [
    {
     "data": {
      "text/plain": [
       "4"
      ]
     },
     "execution_count": 164,
     "metadata": {},
     "output_type": "execute_result"
    }
   ],
   "source": [
    "f1.fileno()"
   ]
  },
  {
   "cell_type": "markdown",
   "metadata": {},
   "source": [
    "### OS level operations ###"
   ]
  },
  {
   "cell_type": "markdown",
   "metadata": {},
   "source": [
    "To delete a file, we have to import os"
   ]
  },
  {
   "cell_type": "code",
   "execution_count": 166,
   "metadata": {},
   "outputs": [],
   "source": [
    "import os\n",
    "os.remove('google.txt')"
   ]
  },
  {
   "cell_type": "markdown",
   "metadata": {},
   "source": [
    "To see the current working directory"
   ]
  },
  {
   "cell_type": "code",
   "execution_count": 170,
   "metadata": {},
   "outputs": [
    {
     "data": {
      "text/plain": [
       "'c:\\\\Users\\\\Tech Land\\\\Downloads\\\\code\\\\ineuron\\\\python\\\\python fundamentals'"
      ]
     },
     "execution_count": 170,
     "metadata": {},
     "output_type": "execute_result"
    }
   ],
   "source": [
    "os.getcwd()"
   ]
  },
  {
   "cell_type": "markdown",
   "metadata": {},
   "source": [
    "listing all files"
   ]
  },
  {
   "cell_type": "code",
   "execution_count": 176,
   "metadata": {},
   "outputs": [
    {
     "data": {
      "text/plain": [
       "['assignment',\n",
       " 'atb.ipynb',\n",
       " 'function.ipynb',\n",
       " 'google.txt',\n",
       " 'iterator and file system.ipynb',\n",
       " 'loop.ipynb',\n",
       " 'test.txt',\n",
       " 'test1.txt',\n",
       " 'tut.ipynb']"
      ]
     },
     "execution_count": 176,
     "metadata": {},
     "output_type": "execute_result"
    }
   ],
   "source": [
    "os.listdir()"
   ]
  },
  {
   "cell_type": "markdown",
   "metadata": {},
   "source": [
    "Exercise: list all the txt files and read out the txt file and append to a final txt file"
   ]
  },
  {
   "cell_type": "code",
   "execution_count": 30,
   "metadata": {},
   "outputs": [],
   "source": [
    "import glob\n",
    "file_list = glob.glob('*.txt')\n",
    "with open('output.txt','w') as output:\n",
    "    for f in file_list:\n",
    "        with open(f, \"r\") as infile:\n",
    "            output.write(infile.read() + '\\n')\n",
    "\n"
   ]
  },
  {
   "cell_type": "code",
   "execution_count": 31,
   "metadata": {},
   "outputs": [
    {
     "data": {
      "text/plain": [
       "['Google LLC is an American multinational technology company focusing on search engine technology, online advertising, cloud computing, computer software, quantum computing, e-commerce, artificial intelligence,[9] and consumer electronics. It has been referred to as \"the most powerful company in the world\"[10] and one of the world\\'s most valuable brands due to its market dominance, data collection, and technological advantages in the area of artificial intelligence.[11][12][13] Its parent company Alphabet is considered one of the Big Five American information technology companies, alongside Amazon, Apple, Meta, and Microsoft.\\n',\n",
       " '\\n',\n",
       " \"Google was founded on September 4, 1998, by Larry Page and Sergey Brin while they were PhD students at Stanford University in California. Together they own about 14% of its publicly listed shares and control 56% of the stockholder voting power through super-voting stock. The company went public via an initial public offering (IPO) in 2004. In 2015, Google was reorganized as a wholly owned subsidiary of Alphabet Inc. Google is Alphabet's largest subsidiary and is a holding company for Alphabet's Internet properties and interests. Sundar Pichai was appointed CEO of Google on October 24, 2015, replacing Larry Page, who became the CEO of Alphabet. On December 3, 2019, Pichai also became the CEO of Alphabet.[14]\\n\",\n",
       " '\\n',\n",
       " 'The company has since rapidly grown to offer a multitude of products and services beyond Google Search, many of which hold dominant market positions. These products address a wide range of use cases, including email (Gmail), navigation (Waze & Maps), cloud computing (Cloud), web browsing (Chrome), video sharing (YouTube), productivity (Workspace), operating systems (Android), cloud storage (Drive), language translation (Translate), photo storage (Photos), video calling (Meet), smart home (Nest), smartphones (Pixel), wearable technology (Pixel Watch & Fitbit), music streaming (YouTube Music), video on demand (YouTube TV), artificial intelligence (Google Assistant), machine learning APIs (TensorFlow), AI chips (TPU), and more. Discontinued Google products include gaming (Stadia), Glass,[citation needed] Google+, Reader, Play Music, Nexus, Hangouts, and Inbox by Gmail.[15][16]\\n',\n",
       " '\\n',\n",
       " 'Reddit is an American social news aggregation, content rating, and discussion website. Registered users (commonly referred to as \"Redditors\") submit content to the site such as links, text posts, images, and videos, which are then voted up or down by other members. Posts are organized by subject into user-created boards called \"communities\" or \"subreddits\". Submissions with more upvotes appear towards the top of their subreddit and, if they receive enough upvotes, ultimately on the site\\'s front page. Reddit administrators moderate the communities. Moderation is also conducted by community-specific moderators, who are not Reddit employees.[7]\\n',\n",
       " '\\n',\n",
       " 'As of March 2022, Reddit ranks as the 9th-most-visited website in the world and 6th most-visited website in the U.S., according to Semrush.[8] About 42â€“49.3% of its user base comes from the United States, followed by the United Kingdom at 7.9â€“8.2% and Canada at 5.2â€“7.8%.[9][10] Twenty-two percent of U.S. adults aged 18 to 29 years, and 14 percent of U.S. adults aged 30 to 49 years, regularly use Reddit.[9]\\n',\n",
       " '\\n',\n",
       " \"Reddit was founded by University of Virginia roommates Steve Huffman and Alexis Ohanian, with Aaron Swartz, in 2005. CondÃ© Nast Publications acquired the site in October 2006. In 2011, Reddit became an independent subsidiary of CondÃ© Nast's parent company, Advance Publications.[11] In October 2014, Reddit raised $50 million in a funding round led by Sam Altman and including investors Marc Andreessen, Peter Thiel, Ron Conway, Snoop Dogg, and Jared Leto.[12] Their investment valued the company at $500 million then.[13][14] In July 2017, Reddit raised $200 million for a $1.8 billion valuation, with Advance Publications remaining the majority stakeholder.[15] In February 2019, a $300 million funding round led by Tencent brought the company's valuation to $3 billion.[16] In August 2021, a $700 million funding round led by Fidelity Investments raised that valuation to over $10 billion.[4] The company then reportedly filed for an IPO in December 2021 with a valuation of 15 billion dollars.[17][18]\\n\"]"
      ]
     },
     "execution_count": 31,
     "metadata": {},
     "output_type": "execute_result"
    }
   ],
   "source": [
    "with open('output.txt', 'r') as f:\n",
    "    lines = f.readlines()\n",
    "lines"
   ]
  },
  {
   "cell_type": "code",
   "execution_count": 9,
   "metadata": {},
   "outputs": [
    {
     "data": {
      "image/png": "[encoded data removed]",
      "text/plain": [
       "<PIL.PngImagePlugin.PngImageFile image mode=RGB size=1100x859 at 0x2969DC4BF10>"
      ]
     },
     "metadata": {},
     "output_type": "display_data"
    }
   ],
   "source": [
    "from PIL import Image\n",
    "\n",
    "# Read image\n",
    "image = Image.open('file operation.png','r')\n",
    "\n",
    "display(image)"
   ]
  },
  {
   "cell_type": "markdown",
   "metadata": {},
   "source": [
    "```python\n",
    "os.walk() creates a generator that can return information about the current directory and subdirectories. It works through the directories in the specified starting directory.\n",
    "\n",
    "os.walk() returns the following items for each directory it traverses:\n",
    "\n",
    "1. current directory path as a string\n",
    "2. subdirectory names in the current directory as lists of strings\n",
    "3. filenames in current directory as a list of strings\n",
    "```"
   ]
  },
  {
   "cell_type": "code",
   "execution_count": 1,
   "metadata": {},
   "outputs": [
    {
     "name": "stdout",
     "output_type": "stream",
     "text": [
      "atb.ipynb\n",
      "final.txt\n",
      "function.ipynb\n",
      "google.txt\n",
      "imageee.jpeg\n",
      "iterator and file system.ipynb\n",
      "loop.ipynb\n",
      "outputFile.txt\n",
      "test.txt\n",
      "test1.txt\n",
      "tut.ipynb\n",
      "assignment-1 answer.ipynb\n",
      "assignment-2 answer.ipynb\n",
      "programming assignment-1.ipynb\n",
      "programming assignment-2.ipynb\n",
      "programming assignment-3.ipynb\n",
      "programming assignment-4.ipynb\n",
      "programming assignment-5.ipynb\n"
     ]
    }
   ],
   "source": [
    "import os\n",
    "cwd = os.getcwd()\n",
    "for path,path_name,file in os.walk(cwd):\n",
    "    for f in file:\n",
    "        print(f)"
   ]
  },
  {
   "cell_type": "markdown",
   "metadata": {},
   "source": [
    "relative and absolute path"
   ]
  },
  {
   "cell_type": "code",
   "execution_count": null,
   "metadata": {},
   "outputs": [],
   "source": [
    "\n",
    "import os\n",
    "import pathlib\n",
    "\n",
    "print(os.path.abspath(\"1.txt\"))  # absolute\n",
    "print(os.path.relpath(\"1.txt\"))  # relative\n",
    "\n",
    "print(pathlib.Path(\"1.txt\").absolute())  # absolute\n",
    "print(pathlib.Path(\"1.txt\"))  # relative"
   ]
  },
  {
   "cell_type": "markdown",
   "metadata": {},
   "source": [
    "copying"
   ]
  },
  {
   "cell_type": "markdown",
   "metadata": {},
   "source": [
    "```python\n",
    "shutil.copy2() is a good choice because it tries to preserve as much of the source file’s metadata as possible.\n",
    "Use shutil.move() to change a file’s location. It uses copy2 as the default under the hood.\n",
    "shutil.copy2(\"source_file\", \"destination\")\n",
    "shutil.move(\"source_file\", \"destination\")\n",
    "```\n"
   ]
  },
  {
   "cell_type": "markdown",
   "metadata": {},
   "source": [
    "copy() v.s. copy2(): copy2() is very much similar to copy(). The difference is that copy2() also copies the metadata of the file such as the most recent access time, the most recent modification time."
   ]
  },
  {
   "cell_type": "code",
   "execution_count": null,
   "metadata": {},
   "outputs": [],
   "source": [
    "import shutil\n",
    "shutil.copy(\n",
    "    os.path.join(os.getcwd(), 'test.txt'),\n",
    "    os.path.join('test_dir')\n",
    ")"
   ]
  },
  {
   "cell_type": "markdown",
   "metadata": {},
   "source": [
    "with renaming"
   ]
  },
  {
   "cell_type": "code",
   "execution_count": null,
   "metadata": {},
   "outputs": [],
   "source": [
    "shutil.copy(\n",
    "    os.path.join(os.getcwd(), 'test.md'),\n",
    "    os.path.join('test_dir', 'test(1).md')\n",
    ")"
   ]
  },
  {
   "cell_type": "markdown",
   "metadata": {},
   "source": [
    "removing"
   ]
  },
  {
   "cell_type": "markdown",
   "metadata": {},
   "source": [
    "```python\n",
    "os.remove(\"my_file_path\") — remove a file — rm\n",
    "\n",
    "shutil.rmtree(\"my_directory_path\")— remove a directory and all files and directories in it —rm -rf\n",
    "```"
   ]
  },
  {
   "cell_type": "code",
   "execution_count": null,
   "metadata": {},
   "outputs": [],
   "source": [
    "os.remove(os.path.join('test_dir', 'README(1).md'))"
   ]
  },
  {
   "cell_type": "code",
   "execution_count": null,
   "metadata": {},
   "outputs": [],
   "source": [
    "os.rmdir(os.path.join('test_dir', 'level_1', 'level_2', 'level_3'))"
   ]
  },
  {
   "cell_type": "markdown",
   "metadata": {},
   "source": [
    "but this will remove only level 3. for deleting the root one"
   ]
  },
  {
   "cell_type": "code",
   "execution_count": null,
   "metadata": {},
   "outputs": [],
   "source": [
    "shutil.rmtree(os.path.join('test_dir', 'level_1'))"
   ]
  },
  {
   "cell_type": "markdown",
   "metadata": {},
   "source": [
    "creating"
   ]
  },
  {
   "cell_type": "code",
   "execution_count": 2,
   "metadata": {},
   "outputs": [],
   "source": [
    "os.mkdir('test_dir')"
   ]
  },
  {
   "cell_type": "code",
   "execution_count": 3,
   "metadata": {},
   "outputs": [
    {
     "data": {
      "text/plain": [
       "True"
      ]
     },
     "execution_count": 3,
     "metadata": {},
     "output_type": "execute_result"
    }
   ],
   "source": [
    "os.path.exists('test_dir')"
   ]
  },
  {
   "cell_type": "code",
   "execution_count": 4,
   "metadata": {},
   "outputs": [],
   "source": [
    "if not os.path.exists('test_dir'):\n",
    "    os.mkdir('test_dir')"
   ]
  },
  {
   "cell_type": "markdown",
   "metadata": {},
   "source": [
    "sub directories"
   ]
  },
  {
   "cell_type": "code",
   "execution_count": 5,
   "metadata": {},
   "outputs": [],
   "source": [
    "os.makedirs(os.path.join('test_dir', 'level_1', 'level_2', 'level_3'))"
   ]
  },
  {
   "cell_type": "markdown",
   "metadata": {},
   "source": [
    "advanced search\n"
   ]
  },
  {
   "cell_type": "markdown",
   "metadata": {},
   "source": [
    "The glob module finds all the pathnames matching a specified pattern according to the rules used by the Unix shell. It supports wildcard characters such as * ? []."
   ]
  },
  {
   "cell_type": "markdown",
   "metadata": {},
   "source": [
    "glob.glob(\"*.txt\") searches for all the files that have csv extension in the current directory. glob module makes it possible to search for files in the subdirectories as well."
   ]
  },
  {
   "cell_type": "code",
   "execution_count": 6,
   "metadata": {},
   "outputs": [
    {
     "data": {
      "text/plain": [
       "['c:\\\\Users\\\\Tech Land\\\\Downloads\\\\code\\\\ineuron\\\\python\\\\python fundamentals\\\\final.txt',\n",
       " 'c:\\\\Users\\\\Tech Land\\\\Downloads\\\\code\\\\ineuron\\\\python\\\\python fundamentals\\\\google.txt',\n",
       " 'c:\\\\Users\\\\Tech Land\\\\Downloads\\\\code\\\\ineuron\\\\python\\\\python fundamentals\\\\outputFile.txt',\n",
       " 'c:\\\\Users\\\\Tech Land\\\\Downloads\\\\code\\\\ineuron\\\\python\\\\python fundamentals\\\\test.txt',\n",
       " 'c:\\\\Users\\\\Tech Land\\\\Downloads\\\\code\\\\ineuron\\\\python\\\\python fundamentals\\\\test1.txt']"
      ]
     },
     "execution_count": 6,
     "metadata": {},
     "output_type": "execute_result"
    }
   ],
   "source": [
    "from glob import glob\n",
    "list(glob(os.path.join(os.getcwd(), '*.txt')))"
   ]
  },
  {
   "cell_type": "markdown",
   "metadata": {},
   "source": [
    "using context manager"
   ]
  },
  {
   "cell_type": "code",
   "execution_count": null,
   "metadata": {},
   "outputs": [],
   "source": [
    "with open(\"test_file\",\"w+\") as file:\n",
    "    file.write(\"a new line\")"
   ]
  },
  {
   "cell_type": "markdown",
   "metadata": {},
   "source": [
    "```python\n",
    "Is this context manager solution always better than close()? It depends on where you use it. The following example implements 3 different ways of writing 50,000 records to a file. As you can see from the output, use_context_manager_2() function has extremely low performance compared to the others. This is because with statement is in a separate function, it basically opens and closes the file for each record. Such expensive I/O operation influences the performance tremendously.\n",
    "```"
   ]
  },
  {
   "cell_type": "code",
   "execution_count": 11,
   "metadata": {},
   "outputs": [],
   "source": [
    "def _write_to_file(file, line):\n",
    "    with open(file, \"a\") as f:\n",
    "        f.write(line)\n",
    "\n",
    "def _valid_records():\n",
    "    for i in range(100000):\n",
    "        if i % 2 == 0:\n",
    "            yield i\n",
    "\n",
    "def use_context_manager_2(file):\n",
    "    for line in _valid_records():\n",
    "        _write_to_file(file, str(line))\n",
    "\n",
    "def use_context_manager_1(file):\n",
    "    with open(file, \"a\") as f:\n",
    "        for line in _valid_records():\n",
    "            f.write(str(line))\n",
    "\n",
    "def use_close_method(file):\n",
    "    f = open(file, \"a\")\n",
    "    for line in _valid_records():\n",
    "        f.write(str(line))\n",
    "    f.close()"
   ]
  },
  {
   "cell_type": "code",
   "execution_count": 12,
   "metadata": {},
   "outputs": [],
   "source": [
    "use_close_method(\"test.txt\")\n"
   ]
  },
  {
   "cell_type": "code",
   "execution_count": 13,
   "metadata": {},
   "outputs": [],
   "source": [
    "use_context_manager_1(\"test.txt\")"
   ]
  },
  {
   "cell_type": "code",
   "execution_count": 14,
   "metadata": {},
   "outputs": [],
   "source": [
    "use_context_manager_2(\"test.txt\")"
   ]
  },
  {
   "cell_type": "markdown",
   "metadata": {},
   "source": [
    "Among these 3 methods, read() and readlines() are less memory efficient because by default they return the complete file either in a string or in a list. A more memory efficient way to iterate over lines is to use readline() and let it stop reading until it returns an empty string. The empty string \"\" means the pointer reaches the end of the file."
   ]
  },
  {
   "cell_type": "code",
   "execution_count": null,
   "metadata": {},
   "outputs": [],
   "source": [
    "with open('test.txt', 'r') as reader:\n",
    "    line = reader.readline()\n",
    "    while line != \"\":\n",
    "        line = reader.readline()\n",
    "        print(line)"
   ]
  },
  {
   "cell_type": "markdown",
   "metadata": {},
   "source": [
    "### Working with PDF ###"
   ]
  },
  {
   "cell_type": "markdown",
   "metadata": {},
   "source": [
    "```python\n",
    "# creating a pdf reader object\n",
    "pdfReader = PyPDF2.PdfFileReader(pdfFileObj)\n",
    "  \n",
    "# printing number of pages in pdf file\n",
    "print(pdfReader.numPages)\n",
    "  \n",
    "# creating a page object\n",
    "pageObj = pdfReader.getPage(0)\n",
    "  \n",
    "# extracting text from page\n",
    "print(pageObj.extractText())\n",
    "  \n",
    "# closing the pdf file object\n",
    "pdfFileObj.close()\n",
    "\n",
    "```"
   ]
  },
  {
   "cell_type": "code",
   "execution_count": null,
   "metadata": {},
   "outputs": [],
   "source": [
    "import PyPDF2\n",
    "with open(\"cover letter_arnob.pdf\", 'rb') as f:\n",
    "    reader = PyPDF2.PdfFileReader(f)\n",
    "    page = reader.getPage(0)\n",
    "    print(page.extract_text())\n",
    "    f.close()"
   ]
  },
  {
   "cell_type": "markdown",
   "metadata": {},
   "source": [
    "### Merging PDF files ###"
   ]
  },
  {
   "cell_type": "code",
   "execution_count": 1,
   "metadata": {},
   "outputs": [],
   "source": [
    "import PyPDF2\n",
    "import glob\n",
    "\n",
    "def pdfmerge(pdfs, output):\n",
    "    merger = PyPDF2.PdfFileMerger()\n",
    "\n",
    "# appending pdfs one by one    \n",
    "    for pdf in pdfs:\n",
    "        merger.append(pdf)\n",
    "\n",
    "# writing combined pdf to output pdf file        \n",
    "    with open(output,'wb') as f:\n",
    "        merger.write(f)\n",
    "\n",
    "def main():\n",
    "    pdfs = glob.glob('*.pdf')\n",
    "    output = 'final one.pdf'\n",
    "    pdfmerge(pdfs,output)\n",
    "    \n",
    "\n",
    "if __name__ == 'main':\n",
    "    main()"
   ]
  },
  {
   "cell_type": "code",
   "execution_count": 2,
   "metadata": {},
   "outputs": [],
   "source": [
    "main()"
   ]
  },
  {
   "cell_type": "markdown",
   "metadata": {},
   "source": [
    "### Splitting PDF file ###"
   ]
  },
  {
   "cell_type": "markdown",
   "metadata": {},
   "source": [
    "Output will be three new PDF files with split 1 (page 0,1), split 2(page 2,3), split 3(page 4-end).\n",
    "No new function or class has been used in the above python program. Using simple logic and iterations, we created the splits of passed PDF according to the passed list splits."
   ]
  },
  {
   "cell_type": "code",
   "execution_count": null,
   "metadata": {},
   "outputs": [],
   "source": [
    "# importing the required modules\n",
    "import PyPDF2\n",
    "\n",
    "def PDFsplit(pdf, splits):\n",
    "\t# creating input pdf file object\n",
    "\tpdfFileObj = open(pdf, 'rb')\n",
    "\t\n",
    "\t# creating pdf reader object\n",
    "\tpdfReader = PyPDF2.PdfFileReader(pdfFileObj)\n",
    "\t\n",
    "\t# starting index of first slice\n",
    "\tstart = 0\n",
    "\t\n",
    "\t# starting index of last slice\n",
    "\tend = splits[0]\n",
    "\t\n",
    "\t\n",
    "\tfor i in range(len(splits)+1):\n",
    "\t\t# creating pdf writer object for (i+1)th split\n",
    "\t\tpdfWriter = PyPDF2.PdfFileWriter()\n",
    "\t\t\n",
    "\t\t# output pdf file name\n",
    "\t\toutputpdf = pdf.split('.pdf')[0] + str(i) + '.pdf'\n",
    "\t\t\n",
    "\t\t# adding pages to pdf writer object\n",
    "\t\tfor page in range(start,end):\n",
    "\t\t\tpdfWriter.addPage(pdfReader.getPage(page))\n",
    "\t\t\n",
    "\t\t# writing split pdf pages to pdf file\n",
    "\t\twith open(outputpdf, \"wb\") as f:\n",
    "\t\t\tpdfWriter.write(f)\n",
    "\n",
    "\t\t# interchanging page split start position for next split\n",
    "\t\tstart = end\n",
    "\t\ttry:\n",
    "\t\t\t# setting split end position for next split\n",
    "\t\t\tend = splits[i+1]\n",
    "\t\texcept IndexError:\n",
    "\t\t\t# setting split end position for last split\n",
    "\t\t\tend = pdfReader.numPages\n",
    "\t\t\n",
    "\t# closing the input pdf file object\n",
    "\tpdfFileObj.close()\n",
    "\t\t\t\n",
    "def main():\n",
    "\t# pdf file to split\n",
    "\tpdf = 'example.pdf'\n",
    "\t\n",
    "\t# split page positions\n",
    "\tsplits = [2,4]\n",
    "\t\n",
    "\t# calling PDFsplit function to split pdf\n",
    "\tPDFsplit(pdf, splits)\n",
    "\n",
    "if __name__ == \"__main__\":\n",
    "\t# calling the main function\n",
    "\tmain()\n"
   ]
  }
 ],
 "metadata": {
  "kernelspec": {
   "display_name": "Python 3.9.0 ('tf_2.6')",
   "language": "python",
   "name": "python3"
  },
  "language_info": {
   "codemirror_mode": {
    "name": "ipython",
    "version": 3
   },
   "file_extension": ".py",
   "mimetype": "text/x-python",
   "name": "python",
   "nbconvert_exporter": "python",
   "pygments_lexer": "ipython3",
   "version": "3.9.0"
  },
  "orig_nbformat": 4,
  "vscode": {
   "interpreter": {
    "hash": "b98157a98c41801e8a93036455317d0b7c8f9fc28bc190e179bcce1a829ff4e9"
   }
  }
 },
 "nbformat": 4,
 "nbformat_minor": 2
}
