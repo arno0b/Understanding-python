{
 "cells": [
  {
   "cell_type": "code",
   "execution_count": 2,
   "metadata": {},
   "outputs": [],
   "source": [
    "import sqlite3"
   ]
  },
  {
   "attachments": {},
   "cell_type": "markdown",
   "metadata": {},
   "source": [
    "creates local database"
   ]
  },
  {
   "cell_type": "code",
   "execution_count": 42,
   "metadata": {},
   "outputs": [],
   "source": [
    "db = sqlite3.connect('sqlite.db')"
   ]
  },
  {
   "cell_type": "code",
   "execution_count": 43,
   "metadata": {},
   "outputs": [
    {
     "data": {
      "text/plain": [
       "<sqlite3.Cursor at 0x165a5f4f030>"
      ]
     },
     "execution_count": 43,
     "metadata": {},
     "output_type": "execute_result"
    }
   ],
   "source": [
    "cur = db.cursor()\n",
    "cur.execute('CREATE TABLE fsds (Student_name TEXT, student_id INT, marks REAL)')"
   ]
  },
  {
   "cell_type": "code",
   "execution_count": 44,
   "metadata": {},
   "outputs": [
    {
     "data": {
      "text/plain": [
       "<sqlite3.Cursor at 0x165a5f4f030>"
      ]
     },
     "execution_count": 44,
     "metadata": {},
     "output_type": "execute_result"
    }
   ],
   "source": [
    "cur.execute('INSERT INTO fsds VALUES(\"RAKIB\", 11125, 94)')"
   ]
  },
  {
   "cell_type": "code",
   "execution_count": 45,
   "metadata": {},
   "outputs": [
    {
     "name": "stdout",
     "output_type": "stream",
     "text": [
      "('RAKIB', 11125, 94.0)\n"
     ]
    }
   ],
   "source": [
    "for i in cur.execute('SELECT * FROM fsds'):\n",
    "    print(i)\n"
   ]
  },
  {
   "cell_type": "code",
   "execution_count": 46,
   "metadata": {},
   "outputs": [
    {
     "name": "stdout",
     "output_type": "stream",
     "text": [
      "('RAKIB', 11125, 94.0)\n"
     ]
    }
   ],
   "source": [
    "for i in cur.execute('SELECT * FROM fsds WHERE marks > 93'):\n",
    "    print(i)"
   ]
  },
  {
   "cell_type": "code",
   "execution_count": 49,
   "metadata": {},
   "outputs": [
    {
     "name": "stdout",
     "output_type": "stream",
     "text": [
      "('RAKIB', 11125)\n"
     ]
    }
   ],
   "source": [
    "for i in cur.execute('SELECT Student_name, student_id FROM fsds WHERE marks > 93'):\n",
    "    print(i)"
   ]
  },
  {
   "cell_type": "code",
   "execution_count": 50,
   "metadata": {},
   "outputs": [],
   "source": [
    "db.commit()\n",
    "db.close()"
   ]
  },
  {
   "cell_type": "code",
   "execution_count": 3,
   "metadata": {},
   "outputs": [
    {
     "ename": "OperationalError",
     "evalue": "table person_table already exists",
     "output_type": "error",
     "traceback": [
      "\u001b[1;31m---------------------------------------------------------------------------\u001b[0m",
      "\u001b[1;31mOperationalError\u001b[0m                          Traceback (most recent call last)",
      "\u001b[1;32mC:\\Users\\TECHLA~1\\AppData\\Local\\Temp/ipykernel_21688/2266252190.py\u001b[0m in \u001b[0;36m<module>\u001b[1;34m\u001b[0m\n\u001b[0;32m      1\u001b[0m \u001b[0mdb\u001b[0m \u001b[1;33m=\u001b[0m \u001b[0msqlite3\u001b[0m\u001b[1;33m.\u001b[0m\u001b[0mconnect\u001b[0m\u001b[1;33m(\u001b[0m\u001b[1;34m\"person.db\"\u001b[0m\u001b[1;33m)\u001b[0m\u001b[1;33m\u001b[0m\u001b[1;33m\u001b[0m\u001b[0m\n\u001b[0;32m      2\u001b[0m \u001b[0mcur\u001b[0m \u001b[1;33m=\u001b[0m \u001b[0mdb\u001b[0m\u001b[1;33m.\u001b[0m\u001b[0mcursor\u001b[0m\u001b[1;33m(\u001b[0m\u001b[1;33m)\u001b[0m\u001b[1;33m\u001b[0m\u001b[1;33m\u001b[0m\u001b[0m\n\u001b[1;32m----> 3\u001b[1;33m \u001b[0mcur\u001b[0m\u001b[1;33m.\u001b[0m\u001b[0mexecute\u001b[0m\u001b[1;33m(\u001b[0m\u001b[1;34m\"create table person_table(Student_name text , emailid text , age int , salary real)\"\u001b[0m\u001b[1;33m)\u001b[0m\u001b[1;33m\u001b[0m\u001b[1;33m\u001b[0m\u001b[0m\n\u001b[0m",
      "\u001b[1;31mOperationalError\u001b[0m: table person_table already exists"
     ]
    }
   ],
   "source": [
    "db = sqlite3.connect(\"person.db\")\n",
    "cur = db.cursor()\n",
    "cur.execute(\"create table person_table(Student_name text , emailid text , age int , salary real)\")\n"
   ]
  },
  {
   "cell_type": "code",
   "execution_count": 4,
   "metadata": {},
   "outputs": [
    {
     "data": {
      "text/plain": [
       "<sqlite3.Cursor at 0x209763e8b90>"
      ]
     },
     "execution_count": 4,
     "metadata": {},
     "output_type": "execute_result"
    }
   ],
   "source": [
    "cur.execute(\"insert into person_table values('ARNOB' , 'ARNOB@ineuron.ai' , 23 , 23424)\")\n",
    "cur.execute(\"insert into person_table values('ADNAN' ,'ADNAN@ineuron.ai' , 34 , 23543543)\")\n",
    "cur.execute(\"insert into person_table values('RIYAD' , 'RIYAD@ineuron.ai' , 23 ,34534564)\")\n",
    "cur.execute(\"insert into person_table values('RAKIB' ,'RAKIB@ineuron.ai' , 23,7789797)\")\n",
    "cur.execute(\"insert into person_table values('RISHAD' ,'RISHAD@ineuron.ai' , 23,7789797)\")\n",
    "cur.execute(\"insert into person_table values('GALIB' ,'GALIB@ineuron.ai' , 24,7789797)\")\n",
    "cur.execute(\"insert into person_table values('TAMIM' ,'TAMIM@ineuron.ai' , 25,7789797)\")\n",
    "cur.execute(\"insert into person_table values('KARIM' ,'KARIM@ineuron.ai' , 23,7789797)\")"
   ]
  },
  {
   "cell_type": "code",
   "execution_count": 5,
   "metadata": {},
   "outputs": [],
   "source": [
    "db = sqlite3.connect('jobdb.db')\n",
    "cur = db.cursor()"
   ]
  },
  {
   "cell_type": "code",
   "execution_count": 6,
   "metadata": {},
   "outputs": [
    {
     "ename": "OperationalError",
     "evalue": "table student already exists",
     "output_type": "error",
     "traceback": [
      "\u001b[1;31m---------------------------------------------------------------------------\u001b[0m",
      "\u001b[1;31mOperationalError\u001b[0m                          Traceback (most recent call last)",
      "\u001b[1;32mC:\\Users\\TECHLA~1\\AppData\\Local\\Temp/ipykernel_21688/857896303.py\u001b[0m in \u001b[0;36m<module>\u001b[1;34m\u001b[0m\n\u001b[1;32m----> 1\u001b[1;33m \u001b[0mcur\u001b[0m\u001b[1;33m.\u001b[0m\u001b[0mexecute\u001b[0m\u001b[1;33m(\u001b[0m\u001b[1;34m'create table student(student_id int , Student_name text , emailid text , marks int)'\u001b[0m\u001b[1;33m)\u001b[0m\u001b[1;33m\u001b[0m\u001b[1;33m\u001b[0m\u001b[0m\n\u001b[0m\u001b[0;32m      2\u001b[0m \u001b[0mcur\u001b[0m\u001b[1;33m.\u001b[0m\u001b[0mexecute\u001b[0m\u001b[1;33m(\u001b[0m\u001b[1;34m'create table address(student_id int ,pincode int  , location text , nearby text , phone_no int)'\u001b[0m\u001b[1;33m)\u001b[0m\u001b[1;33m\u001b[0m\u001b[1;33m\u001b[0m\u001b[0m\n",
      "\u001b[1;31mOperationalError\u001b[0m: table student already exists"
     ]
    }
   ],
   "source": [
    "cur.execute('create table student(student_id int , Student_name text , emailid text , marks int)')\n",
    "cur.execute('create table address(student_id int ,pincode int  , location text , nearby text , phone_no int)')"
   ]
  },
  {
   "cell_type": "code",
   "execution_count": 7,
   "metadata": {},
   "outputs": [
    {
     "data": {
      "text/plain": [
       "<sqlite3.Cursor at 0x209764141f0>"
      ]
     },
     "execution_count": 7,
     "metadata": {},
     "output_type": "execute_result"
    }
   ],
   "source": [
    "cur.execute(\"insert into student values(10698,'ARNOB' , 'ARNOB@ineuron.ai' , 94)\")\n",
    "cur.execute(\"insert into student values(11181,'ADNAN' , 'ADNAN@ineuron.ai' , 98)\")\n",
    "cur.execute(\"insert into student values(10725,'RIYAD' , 'RIYAD@ineuron.ai' , 97)\")\n",
    "cur.execute(\"insert into student values(11125,'RAKIB' , 'RAKIB@ineuron.ai' , 94)\")\n",
    "cur.execute(\"insert into student values(10125,'RISHAD' , 'RISHAD@ineuron.ai' , 91)\")\n",
    "cur.execute(\"insert into student values(12255,'GALIB' , 'GALIB@ineuron.ai' , 91)\")\n",
    "cur.execute(\"insert into student values(4483,'TAMIM' , 'TAMIM@ineuron.ai' , 93)\")\n",
    "cur.execute(\"insert into student values(12445,'KARIM' , 'KARIM@ineuron.ai' , 93)\")\n",
    "cur.execute(\"insert into student values(12423,'sudhashu' , 'sudhanshu@ineuron.ai' , 89)\")\n",
    "cur.execute(\"insert into student values(233543,'carmine' , 'carmine@ineuron.ai' , 92)\")\n",
    "cur.execute(\"insert into student values(23345,'jones' , 'jones@ineuron.ai' , 92)\")\n",
    "cur.execute(\"insert into student values(233543,'sikorsky' , 'sikorsky@ineuron.ai' , 85)\")"
   ]
  },
  {
   "cell_type": "code",
   "execution_count": 8,
   "metadata": {},
   "outputs": [
    {
     "data": {
      "text/plain": [
       "<sqlite3.Cursor at 0x209764141f0>"
      ]
     },
     "execution_count": 8,
     "metadata": {},
     "output_type": "execute_result"
    }
   ],
   "source": [
    "cur.execute(\"insert into address values(10698 , 560034 , 'whitefelid' ,'ineuron office ' , 2423543454353 )\")\n",
    "cur.execute(\"insert into address values(11181 , 560034 , 'whitefelid' ,'ineuron office ' , 2423543454353 )\")\n",
    "cur.execute(\"insert into address values(10725 , 560034 , 'whitefelid' ,'ineuron office ' , 2423543454353 )\")\n",
    "cur.execute(\"insert into address values(11125 , 560034 , 'whitefelid' ,'ineuron office ' , 2423543454353 )\")\n",
    "cur.execute(\"insert into address values(10125 , 560034 , 'whitefelid' ,'ineuron office ' , 2423543454353 )\")\n",
    "cur.execute(\"insert into address values(12255 , 560034 , 'whitefelid' ,'ineuron office ' , 2423543454353 )\")\n",
    "cur.execute(\"insert into address values(4483 , 560034 , 'whitefelid' ,'ineuron office ' , 2423543454353 )\")\n",
    "cur.execute(\"insert into address values(12445 , 560034 , 'whitefelid' ,'ineuron office ' , 2423543454353 )\")\n",
    "cur.execute(\"insert into address values(12423 , 560034 , 'whitefelid' ,'ineuron office ' , 2423543454353 )\")\n",
    "cur.execute(\"insert into address values(233543 , 560034 , 'whitefelid' ,'ineuron office ' , 2423543454353 )\")\n",
    "cur.execute(\"insert into address values(23623 , 560034 , 'whitefelid' ,'ineuron office ' , 2423543454353 )\")\n",
    "cur.execute(\"insert into address values(23689 , 560034 , 'whitefelid' ,'ineuron office ' , 2423543454353 )\")\n",
    "cur.execute(\"insert into address values(23609 , 560034 , 'whitefelid' ,'ineuron office ' , 2423543454353 )\")\n",
    "cur.execute(\"insert into address values(23632 , 560034 , 'whitefelid' ,'ineuron office ' , 2423543454353 )\")\n",
    "cur.execute(\"insert into address values(23689 , 560034 , 'whitefelid' ,'ineuron office ' , 2423543454353 )\")\n",
    "cur.execute(\"insert into address values(23623 , 560034 , 'whitefelid' ,'ineuron office ' , 2423543454353 )\")\n",
    "cur.execute(\"insert into address values(23698 , 560034 , 'whitefelid' ,'ineuron office ' , 2423543454353 )\")\n",
    "cur.execute(\"insert into address values(23623 , 560034 , 'whitefelid' ,'ineuron office ' , 2423543454353 )\")\n",
    "cur.execute(\"insert into address values(23689 , 560034 , 'whitefelid' ,'ineuron office ' , 2423543454353 )\")\n",
    "cur.execute(\"insert into address values(23623 , 560034 , 'whitefelid' ,'ineuron office ' , 2423543454353 )\")\n",
    "cur.execute(\"insert into address values(23690 , 560034 , 'whitefelid' ,'ineuron office ' , 2423543454353 )\")"
   ]
  },
  {
   "attachments": {},
   "cell_type": "markdown",
   "metadata": {},
   "source": [
    "join operation"
   ]
  },
  {
   "cell_type": "code",
   "execution_count": 9,
   "metadata": {},
   "outputs": [
    {
     "name": "stdout",
     "output_type": "stream",
     "text": [
      "(10698, 'ARNOB', 'ARNOB@ineuron.ai', 94, 10698, 560034, 'whitefelid', 'ineuron office ', 2423543454353)\n",
      "(11181, 'ADNAN', 'ADNAN@ineuron.ai', 98, 11181, 560034, 'whitefelid', 'ineuron office ', 2423543454353)\n",
      "(10725, 'RIYAD', 'RIYAD@ineuron.ai', 97, 10725, 560034, 'whitefelid', 'ineuron office ', 2423543454353)\n",
      "(11125, 'RAKIB', 'RAKIB@ineuron.ai', 94, 11125, 560034, 'whitefelid', 'ineuron office ', 2423543454353)\n",
      "(10125, 'RISHAD', 'RISHAD@ineuron.ai', 91, 10125, 560034, 'whitefelid', 'ineuron office ', 2423543454353)\n",
      "(12255, 'GALIB', 'GALIB@ineuron.ai', 91, 12255, 560034, 'whitefelid', 'ineuron office ', 2423543454353)\n",
      "(4483, 'TAMIM', 'TAMIM@ineuron.ai', 93, 4483, 560034, 'whitefelid', 'ineuron office ', 2423543454353)\n",
      "(12445, 'KARIM', 'KARIM@ineuron.ai', 93, 12445, 560034, 'whitefelid', 'ineuron office ', 2423543454353)\n",
      "(12423, 'sudhashu', 'sudhanshu@ineuron.ai', 89, 12423, 560034, 'whitefelid', 'ineuron office ', 2423543454353)\n",
      "(233543, 'carmine', 'carmine@ineuron.ai', 92, 233543, 560034, 'whitefelid', 'ineuron office ', 2423543454353)\n",
      "(23345, 'jones', 'jones@ineuron.ai', 92, None, None, None, None, None)\n",
      "(233543, 'sikorsky', 'sikorsky@ineuron.ai', 85, 233543, 560034, 'whitefelid', 'ineuron office ', 2423543454353)\n"
     ]
    }
   ],
   "source": [
    "\n",
    "for i in cur.execute('SELECT * FROM student s left join address a on s.student_id = a.student_id'):\n",
    "    print(i)"
   ]
  },
  {
   "cell_type": "code",
   "execution_count": 11,
   "metadata": {},
   "outputs": [],
   "source": [
    "cur.execute(\"UPDATE student SET student_id = 10832 where student_id = 12423\")\n"
   ]
  },
  {
   "cell_type": "code",
   "execution_count": 13,
   "metadata": {},
   "outputs": [
    {
     "data": {
      "text/plain": [
       "[(10698, 'ARNOB', 'ARNOB@ineuron.ai', 94),\n",
       " (11181, 'ADNAN', 'ADNAN@ineuron.ai', 98),\n",
       " (10725, 'RIYAD', 'RIYAD@ineuron.ai', 97),\n",
       " (11125, 'RAKIB', 'RAKIB@ineuron.ai', 94),\n",
       " (10125, 'RISHAD', 'RISHAD@ineuron.ai', 91),\n",
       " (12255, 'GALIB', 'GALIB@ineuron.ai', 91),\n",
       " (4483, 'TAMIM', 'TAMIM@ineuron.ai', 93),\n",
       " (12445, 'KARIM', 'KARIM@ineuron.ai', 93),\n",
       " (10832, 'sudhashu', 'sudhanshu@ineuron.ai', 89),\n",
       " (233543, 'carmine', 'carmine@ineuron.ai', 92),\n",
       " (23345, 'jones', 'jones@ineuron.ai', 92),\n",
       " (233543, 'sikorsky', 'sikorsky@ineuron.ai', 85)]"
      ]
     },
     "execution_count": 13,
     "metadata": {},
     "output_type": "execute_result"
    }
   ],
   "source": [
    "data = cur.execute('select * from student')\n",
    "data.fetchall()"
   ]
  },
  {
   "cell_type": "code",
   "execution_count": 14,
   "metadata": {},
   "outputs": [],
   "source": [
    "db.commit()\n",
    "db.close()"
   ]
  },
  {
   "attachments": {},
   "cell_type": "markdown",
   "metadata": {},
   "source": [
    "#### Mapping ####"
   ]
  },
  {
   "cell_type": "code",
   "execution_count": 15,
   "metadata": {},
   "outputs": [],
   "source": [
    "l = [1,2,3,4,5,6,7]"
   ]
  },
  {
   "cell_type": "code",
   "execution_count": 16,
   "metadata": {},
   "outputs": [
    {
     "data": {
      "text/plain": [
       "[6, 7, 8, 9, 10, 11, 12]"
      ]
     },
     "execution_count": 16,
     "metadata": {},
     "output_type": "execute_result"
    }
   ],
   "source": [
    "l1 = []\n",
    "for i in l:\n",
    "    l1.append(i+5)\n",
    "\n",
    "l1"
   ]
  },
  {
   "cell_type": "code",
   "execution_count": 17,
   "metadata": {},
   "outputs": [
    {
     "data": {
      "text/plain": [
       "[6, 7, 8, 9, 10, 11, 12]"
      ]
     },
     "execution_count": 17,
     "metadata": {},
     "output_type": "execute_result"
    }
   ],
   "source": [
    "[i+5 for i in l]"
   ]
  },
  {
   "cell_type": "code",
   "execution_count": 18,
   "metadata": {},
   "outputs": [],
   "source": [
    "def test(a):\n",
    "    return a+5"
   ]
  },
  {
   "cell_type": "code",
   "execution_count": 20,
   "metadata": {},
   "outputs": [
    {
     "data": {
      "text/plain": [
       "[6, 7, 8, 9, 10, 11, 12]"
      ]
     },
     "execution_count": 20,
     "metadata": {},
     "output_type": "execute_result"
    }
   ],
   "source": [
    "list(map(test,l))"
   ]
  },
  {
   "cell_type": "code",
   "execution_count": 27,
   "metadata": {},
   "outputs": [
    {
     "data": {
      "text/plain": [
       "[6, 7, 8, 9, 10, 11, 12]"
      ]
     },
     "execution_count": 27,
     "metadata": {},
     "output_type": "execute_result"
    }
   ],
   "source": [
    "list(map(lambda x: x+5, l))"
   ]
  },
  {
   "cell_type": "code",
   "execution_count": 21,
   "metadata": {},
   "outputs": [],
   "source": [
    "l1 = ['3125','234','85','568','3568','94']"
   ]
  },
  {
   "cell_type": "code",
   "execution_count": 23,
   "metadata": {},
   "outputs": [
    {
     "data": {
      "text/plain": [
       "[3125, 234, 85, 568, 3568, 94]"
      ]
     },
     "execution_count": 23,
     "metadata": {},
     "output_type": "execute_result"
    }
   ],
   "source": [
    "list(map(int,l1))"
   ]
  },
  {
   "cell_type": "code",
   "execution_count": 25,
   "metadata": {},
   "outputs": [
    {
     "data": {
      "text/plain": [
       "[3125, 234, 85, 568, 3568, 94]"
      ]
     },
     "execution_count": 25,
     "metadata": {},
     "output_type": "execute_result"
    }
   ],
   "source": [
    "list(map(lambda x: int(x), l1))"
   ]
  },
  {
   "attachments": {},
   "cell_type": "markdown",
   "metadata": {},
   "source": [
    "#### Filter ####"
   ]
  },
  {
   "cell_type": "code",
   "execution_count": 28,
   "metadata": {},
   "outputs": [],
   "source": [
    "l = [4,5,6,7,78,8,78]"
   ]
  },
  {
   "cell_type": "code",
   "execution_count": 35,
   "metadata": {},
   "outputs": [
    {
     "data": {
      "text/plain": [
       "[4, 6, 78, 8, 78]"
      ]
     },
     "execution_count": 35,
     "metadata": {},
     "output_type": "execute_result"
    }
   ],
   "source": [
    "[i for i in l if i%2 == 0]"
   ]
  },
  {
   "cell_type": "code",
   "execution_count": 38,
   "metadata": {},
   "outputs": [],
   "source": [
    "def test(a):\n",
    "    if a%2 == 0:\n",
    "        return a"
   ]
  },
  {
   "cell_type": "code",
   "execution_count": 39,
   "metadata": {},
   "outputs": [
    {
     "data": {
      "text/plain": [
       "[4, 6, 78, 8, 78]"
      ]
     },
     "execution_count": 39,
     "metadata": {},
     "output_type": "execute_result"
    }
   ],
   "source": [
    "list(filter(test,l))"
   ]
  },
  {
   "cell_type": "code",
   "execution_count": 40,
   "metadata": {},
   "outputs": [
    {
     "data": {
      "text/plain": [
       "[4, 6, 78, 8, 78]"
      ]
     },
     "execution_count": 40,
     "metadata": {},
     "output_type": "execute_result"
    }
   ],
   "source": [
    "list(filter(lambda x: x%2 == 0,l))"
   ]
  },
  {
   "cell_type": "code",
   "execution_count": 41,
   "metadata": {},
   "outputs": [
    {
     "data": {
      "text/plain": [
       "[True, False, True, False, True, True, True]"
      ]
     },
     "execution_count": 41,
     "metadata": {},
     "output_type": "execute_result"
    }
   ],
   "source": [
    "list(map(lambda x: x%2 == 0,l))"
   ]
  },
  {
   "attachments": {},
   "cell_type": "markdown",
   "metadata": {},
   "source": [
    "#### Reduce ####"
   ]
  },
  {
   "cell_type": "code",
   "execution_count": 42,
   "metadata": {},
   "outputs": [],
   "source": [
    "from functools import reduce"
   ]
  },
  {
   "cell_type": "code",
   "execution_count": 44,
   "metadata": {},
   "outputs": [],
   "source": [
    "l = [3,4,5,6,7,3,8]"
   ]
  },
  {
   "cell_type": "code",
   "execution_count": 43,
   "metadata": {},
   "outputs": [],
   "source": [
    "def test(a,b,c):\n",
    "    return a+b+c"
   ]
  },
  {
   "cell_type": "code",
   "execution_count": 46,
   "metadata": {},
   "outputs": [
    {
     "ename": "TypeError",
     "evalue": "test() missing 1 required positional argument: 'c'",
     "output_type": "error",
     "traceback": [
      "\u001b[1;31m---------------------------------------------------------------------------\u001b[0m",
      "\u001b[1;31mTypeError\u001b[0m                                 Traceback (most recent call last)",
      "\u001b[1;32mC:\\Users\\TECHLA~1\\AppData\\Local\\Temp/ipykernel_21688/4061378685.py\u001b[0m in \u001b[0;36m<module>\u001b[1;34m\u001b[0m\n\u001b[1;32m----> 1\u001b[1;33m \u001b[0mreduce\u001b[0m\u001b[1;33m(\u001b[0m\u001b[0mtest\u001b[0m\u001b[1;33m,\u001b[0m\u001b[0ml\u001b[0m\u001b[1;33m)\u001b[0m\u001b[1;33m\u001b[0m\u001b[1;33m\u001b[0m\u001b[0m\n\u001b[0m",
      "\u001b[1;31mTypeError\u001b[0m: test() missing 1 required positional argument: 'c'"
     ]
    }
   ],
   "source": [
    "reduce(test,l)"
   ]
  },
  {
   "attachments": {},
   "cell_type": "markdown",
   "metadata": {},
   "source": [
    "The reason the function `test` with the signature `def test(a, b, c)` doesn't work with the `reduce` function is because `reduce` expects the function passed as the first argument to take only two arguments, not three.\n",
    "\n",
    "`reduce` successively applies the function passed as the first argument to the elements of the sequence passed as the second argument, and accumulates the result. It starts by applying the function to the first two elements of the sequence, then it takes the result and the next element of the sequence and applies the function again. This process continues until all elements of the sequence have been processed.\n",
    "\n",
    "Since `reduce` expects the function passed as the first argument to take only two arguments, using a function `test` with three arguments (`a`, `b`, and `c`) results in a `TypeError`. To resolve this error, you need to modify the function `test` so that it takes only two arguments, or use a different function that takes only two arguments with `reduce`."
   ]
  },
  {
   "cell_type": "code",
   "execution_count": 48,
   "metadata": {},
   "outputs": [
    {
     "data": {
      "text/plain": [
       "36"
      ]
     },
     "execution_count": 48,
     "metadata": {},
     "output_type": "execute_result"
    }
   ],
   "source": [
    "reduce(lambda x,y: x+y, l)"
   ]
  },
  {
   "attachments": {},
   "cell_type": "markdown",
   "metadata": {},
   "source": [
    "#### Zip ####"
   ]
  },
  {
   "attachments": {},
   "cell_type": "markdown",
   "metadata": {},
   "source": [
    "The `zip()` function is then used to create a new list of tuples. Each tuple in the new list contains one element from each of the original lists. In this case, the first tuple would contain the first elements of both `l` and `l1` (1 and 4), the second tuple would contain the second elements of both lists (2 and 5), and so on.\n",
    "\n",
    "So, `list(zip(l,l1))` would return the following list of tuples: `[(1, 4), (2, 5), (3, 6), (4, 7), (5, 8)]`."
   ]
  },
  {
   "cell_type": "code",
   "execution_count": 49,
   "metadata": {},
   "outputs": [
    {
     "data": {
      "text/plain": [
       "[(1, 4), (2, 5), (3, 6), (4, 7), (5, 8)]"
      ]
     },
     "execution_count": 49,
     "metadata": {},
     "output_type": "execute_result"
    }
   ],
   "source": [
    "l = [1,2,3,4,5]\n",
    "l1 = [4,5,6,7,8]\n",
    "\n",
    "list(zip(l,l1))"
   ]
  },
  {
   "attachments": {},
   "cell_type": "markdown",
   "metadata": {},
   "source": [
    "if we add more"
   ]
  },
  {
   "cell_type": "code",
   "execution_count": 50,
   "metadata": {},
   "outputs": [
    {
     "data": {
      "text/plain": [
       "[(1, 4, 'arnob'), (2, 5, 'baki'), (3, 6, 'hanma'), (4, 7, 'yujiro')]"
      ]
     },
     "execution_count": 50,
     "metadata": {},
     "output_type": "execute_result"
    }
   ],
   "source": [
    "l2 = ['arnob','baki','hanma','yujiro']\n",
    "list(zip(l,l1,l2))"
   ]
  },
  {
   "attachments": {},
   "cell_type": "markdown",
   "metadata": {},
   "source": [
    "q1"
   ]
  },
  {
   "cell_type": "code",
   "execution_count": 52,
   "metadata": {},
   "outputs": [],
   "source": [
    "import logging\n",
    "from functools import reduce\n",
    "\n",
    "def word_count(filename):\n",
    "    with open(filename, 'r') as f:\n",
    "        text = f.read()\n",
    "        words = text.split()\n",
    "        print\n"
   ]
  },
  {
   "cell_type": "code",
   "execution_count": null,
   "metadata": {},
   "outputs": [],
   "source": [
    "from collections import Counter\n",
    "with open('vocab.pubmed.txt', 'r') as f:\n",
    "        text = f.read()\n",
    "        words = text.split()\n",
    "        word_count = Counter(words)\n",
    "        print(word_count.most_common())"
   ]
  }
 ],
 "metadata": {
  "kernelspec": {
   "display_name": "tf_2.6",
   "language": "python",
   "name": "python3"
  },
  "language_info": {
   "codemirror_mode": {
    "name": "ipython",
    "version": 3
   },
   "file_extension": ".py",
   "mimetype": "text/x-python",
   "name": "python",
   "nbconvert_exporter": "python",
   "pygments_lexer": "ipython3",
   "version": "3.9.0"
  },
  "orig_nbformat": 4,
  "vscode": {
   "interpreter": {
    "hash": "b98157a98c41801e8a93036455317d0b7c8f9fc28bc190e179bcce1a829ff4e9"
   }
  }
 },
 "nbformat": 4,
 "nbformat_minor": 2
}
