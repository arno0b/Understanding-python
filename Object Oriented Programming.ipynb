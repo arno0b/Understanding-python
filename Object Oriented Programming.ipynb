{
 "cells": [
  {
   "attachments": {},
   "cell_type": "markdown",
   "metadata": {},
   "source": [
    "### Object Oriented Programming ###"
   ]
  },
  {
   "attachments": {},
   "cell_type": "markdown",
   "metadata": {},
   "source": [
    "Properties of a class object is called attributes (instance variable) and functionalities (methods)."
   ]
  },
  {
   "attachments": {},
   "cell_type": "markdown",
   "metadata": {},
   "source": [
    "`Class`: Class is the blueprint to create an object. \n",
    "\n",
    "`Object`: Object is an instance of class."
   ]
  },
  {
   "cell_type": "code",
   "execution_count": 2,
   "metadata": {},
   "outputs": [],
   "source": [
    "class Car:\n",
    "    def __init__(self, body_type, engine, fuel_type):\n",
    "        self.body_type = body_type\n",
    "        self.engine = engine\n",
    "        self.fuel_type = fuel_type\n",
    "         "
   ]
  },
  {
   "attachments": {},
   "cell_type": "markdown",
   "metadata": {},
   "source": [
    "`self.fuel_type` is a class variable.\n",
    "\n",
    "`self.fuel_type = fuel_type`\n",
    ". This is just like creating a variable. For example:\n",
    "we can even write:\n",
    "\n",
    "`self.fuel_type = input()`\n",
    "\n",
    "just like  `a = input()`\n"
   ]
  },
  {
   "cell_type": "markdown",
   "metadata": {},
   "source": [
    "Also self is not a reserved keyword. we can use anything instead of self"
   ]
  },
  {
   "cell_type": "code",
   "execution_count": 2,
   "metadata": {},
   "outputs": [],
   "source": [
    "class car:\n",
    "    def __init__(self, body_type, engine, fuel_type):\n",
    "        self.body_type = body_type\n",
    "        self.engine = engine\n",
    "        self.fuel_type = fuel_type\n",
    "    def test(self):\n",
    "        if self.engine == 'v8':\n",
    "            print('you are bloody poor')\n",
    "        elif self.engine == 'v12':\n",
    "            print('winner winner chicken dinner')\n",
    "\n"
   ]
  },
  {
   "cell_type": "code",
   "execution_count": 18,
   "metadata": {},
   "outputs": [
    {
     "ename": "TypeError",
     "evalue": "__init__() missing 3 required positional arguments: 'body_type', 'engine', and 'fuel_type'",
     "output_type": "error",
     "traceback": [
      "\u001b[1;31m---------------------------------------------------------------------------\u001b[0m",
      "\u001b[1;31mTypeError\u001b[0m                                 Traceback (most recent call last)",
      "\u001b[1;32mC:\\Users\\TECHLA~1\\AppData\\Local\\Temp/ipykernel_26280/2714505290.py\u001b[0m in \u001b[0;36m<module>\u001b[1;34m\u001b[0m\n\u001b[1;32m----> 1\u001b[1;33m \u001b[0mlaferrari\u001b[0m \u001b[1;33m=\u001b[0m \u001b[0mcar\u001b[0m\u001b[1;33m(\u001b[0m\u001b[1;33m)\u001b[0m\u001b[1;33m\u001b[0m\u001b[1;33m\u001b[0m\u001b[0m\n\u001b[0m",
      "\u001b[1;31mTypeError\u001b[0m: __init__() missing 3 required positional arguments: 'body_type', 'engine', and 'fuel_type'"
     ]
    }
   ],
   "source": [
    "laferrari = car()"
   ]
  },
  {
   "cell_type": "markdown",
   "metadata": {},
   "source": [
    "__init__ is a constuctor which assigns data to a class"
   ]
  },
  {
   "cell_type": "code",
   "execution_count": 2,
   "metadata": {},
   "outputs": [],
   "source": [
    "laferrari = car('sports','v8','petrol')"
   ]
  },
  {
   "cell_type": "markdown",
   "metadata": {},
   "source": [
    "here laferrari is a variable of car class. and variable of class is object. so laferrari is an object"
   ]
  },
  {
   "cell_type": "code",
   "execution_count": 28,
   "metadata": {},
   "outputs": [
    {
     "name": "stdout",
     "output_type": "stream",
     "text": [
      "<class '__main__.car'>\n"
     ]
    }
   ],
   "source": [
    "print(type(laferrari))"
   ]
  },
  {
   "cell_type": "code",
   "execution_count": 3,
   "metadata": {},
   "outputs": [
    {
     "data": {
      "text/plain": [
       "'v8'"
      ]
     },
     "execution_count": 3,
     "metadata": {},
     "output_type": "execute_result"
    }
   ],
   "source": [
    "laferrari.engine"
   ]
  },
  {
   "cell_type": "code",
   "execution_count": 3,
   "metadata": {},
   "outputs": [],
   "source": [
    "lamborghini = car('exotic','v12','petrol')"
   ]
  },
  {
   "cell_type": "code",
   "execution_count": 5,
   "metadata": {},
   "outputs": [
    {
     "data": {
      "text/plain": [
       "'v12'"
      ]
     },
     "execution_count": 5,
     "metadata": {},
     "output_type": "execute_result"
    }
   ],
   "source": [
    "lamborghini.engine"
   ]
  },
  {
   "cell_type": "code",
   "execution_count": 11,
   "metadata": {},
   "outputs": [
    {
     "data": {
      "text/plain": [
       "<__main__.car at 0x12f5277da00>"
      ]
     },
     "execution_count": 11,
     "metadata": {},
     "output_type": "execute_result"
    }
   ],
   "source": [
    "print(lamborghini)"
   ]
  },
  {
   "cell_type": "code",
   "execution_count": 24,
   "metadata": {},
   "outputs": [],
   "source": [
    "class Car:\n",
    "    def __init__(self, body_type, engine, fuel_type):\n",
    "        self.body_type = body_type\n",
    "        self.engine = engine\n",
    "        self.fuel_type = fuel_type\n",
    "    def test(self):\n",
    "        if self.engine == 'v8':\n",
    "            print('you are bloody poor')\n",
    "        elif self.engine == 'v12':\n",
    "            print('winner winner chicken dinner')\n",
    "    \n",
    "    def __str__(self):\n",
    "        return 'my function'"
   ]
  },
  {
   "cell_type": "code",
   "execution_count": 25,
   "metadata": {},
   "outputs": [],
   "source": [
    "lamborghini = Car('exotic','v12','petrol')"
   ]
  },
  {
   "attachments": {},
   "cell_type": "markdown",
   "metadata": {},
   "source": [
    "The `__str__` method is used to define the string representation of the object. The method returns the string \"my function\" when the object is passed to the built-in str() function or used in a string context, such as being printed."
   ]
  },
  {
   "cell_type": "code",
   "execution_count": 26,
   "metadata": {},
   "outputs": [
    {
     "name": "stdout",
     "output_type": "stream",
     "text": [
      "my function\n"
     ]
    }
   ],
   "source": [
    "print(lamborghini)"
   ]
  },
  {
   "cell_type": "code",
   "execution_count": 6,
   "metadata": {},
   "outputs": [
    {
     "name": "stdout",
     "output_type": "stream",
     "text": [
      "winner winner chicken dinner\n"
     ]
    }
   ],
   "source": [
    "lamborghini.test()"
   ]
  },
  {
   "cell_type": "markdown",
   "metadata": {},
   "source": [
    "but outside the class, it acts as a normal function"
   ]
  },
  {
   "cell_type": "code",
   "execution_count": 23,
   "metadata": {},
   "outputs": [],
   "source": [
    "class car12:\n",
    "    def testg(self,b,c):\n",
    "        print('argbs')\n",
    "        "
   ]
  },
  {
   "cell_type": "markdown",
   "metadata": {},
   "source": [
    "here self also works as a pointer even if we dont use constructor. the rest are arguments\n"
   ]
  },
  {
   "cell_type": "code",
   "execution_count": 26,
   "metadata": {},
   "outputs": [],
   "source": [
    "a= car12()"
   ]
  },
  {
   "cell_type": "code",
   "execution_count": 25,
   "metadata": {},
   "outputs": [
    {
     "ename": "TypeError",
     "evalue": "testg() missing 2 required positional arguments: 'b' and 'c'",
     "output_type": "error",
     "traceback": [
      "\u001b[1;31m---------------------------------------------------------------------------\u001b[0m",
      "\u001b[1;31mTypeError\u001b[0m                                 Traceback (most recent call last)",
      "\u001b[1;32mC:\\Users\\TECHLA~1\\AppData\\Local\\Temp/ipykernel_9908/1105141622.py\u001b[0m in \u001b[0;36m<module>\u001b[1;34m\u001b[0m\n\u001b[1;32m----> 1\u001b[1;33m \u001b[0ma\u001b[0m\u001b[1;33m.\u001b[0m\u001b[0mtestg\u001b[0m\u001b[1;33m(\u001b[0m\u001b[1;33m)\u001b[0m\u001b[1;33m\u001b[0m\u001b[1;33m\u001b[0m\u001b[0m\n\u001b[0m",
      "\u001b[1;31mTypeError\u001b[0m: testg() missing 2 required positional arguments: 'b' and 'c'"
     ]
    }
   ],
   "source": [
    "a.testg()"
   ]
  },
  {
   "cell_type": "code",
   "execution_count": 80,
   "metadata": {},
   "outputs": [],
   "source": [
    "class list_parser:\n",
    "    def extract_list(self,a):\n",
    "        if type(a) == list:\n",
    "            for i in a:\n",
    "                print(i)\n",
    "\n",
    "    def reverse_list(self,a):\n",
    "        if type(a) == list:\n",
    "            print(a[::-1])\n",
    "            \n",
    "    def alt_list(self,a):\n",
    "        if type(a) == list:\n",
    "                print(a[::2])"
   ]
  },
  {
   "cell_type": "code",
   "execution_count": 81,
   "metadata": {},
   "outputs": [],
   "source": [
    "c = list_parser()"
   ]
  },
  {
   "cell_type": "code",
   "execution_count": 82,
   "metadata": {},
   "outputs": [
    {
     "name": "stdout",
     "output_type": "stream",
     "text": [
      "[3, 5, 4]\n"
     ]
    }
   ],
   "source": [
    "c.reverse_list([4,5,3])"
   ]
  },
  {
   "cell_type": "markdown",
   "metadata": {},
   "source": [
    "now if we want to pass the variable a to all the functions inside the class, we will use __init__ constructor"
   ]
  },
  {
   "cell_type": "code",
   "execution_count": 83,
   "metadata": {},
   "outputs": [],
   "source": [
    "class list_parser:\n",
    "    def __init__(self,a):\n",
    "         self.s = a\n",
    "\n",
    "    def extract_list(self):\n",
    "        if type(self.s) == list:\n",
    "            for i in self.s:\n",
    "                print(i)\n",
    "\n",
    "    def reverse_list(self):\n",
    "        if type(self.s) == list:\n",
    "            print(self.s[::-1])\n",
    "            \n",
    "    def alt_list(self):\n",
    "        if type(self.s) == list:\n",
    "                print(self.s[::2])"
   ]
  },
  {
   "cell_type": "code",
   "execution_count": 84,
   "metadata": {},
   "outputs": [],
   "source": [
    "c = list_parser([4,5,3])"
   ]
  },
  {
   "cell_type": "code",
   "execution_count": 85,
   "metadata": {},
   "outputs": [
    {
     "name": "stdout",
     "output_type": "stream",
     "text": [
      "[3, 5, 4]\n"
     ]
    }
   ],
   "source": [
    "c.reverse_list()"
   ]
  },
  {
   "cell_type": "markdown",
   "metadata": {},
   "source": [
    "task: "
   ]
  },
  {
   "cell_type": "code",
   "execution_count": 117,
   "metadata": {},
   "outputs": [],
   "source": [
    "class dict_parser:\n",
    "    def __init__(self,dict):\n",
    "        self.dict = dict\n",
    "    \n",
    "    def dict_keys(self):\n",
    "        if self.raise_error():\n",
    "           return list(self.dict.keys())\n",
    "\n",
    "    def dict_values(self):\n",
    "        if self.raise_error():\n",
    "            return list(self.dict.values())\n",
    "    def raise_error(self):\n",
    "        if type(self.dict) != dict:\n",
    "            raise Exception(f'{self.dict} is not a dictionary type value')\n",
    "        return True\n",
    "\n",
    "    def dict_input(self):\n",
    "        self.dict = eval(input('please provide the dictioanry: '))\n",
    "        print(self.dict, type(self.dict))\n",
    "        print(self.dict_keys())\n",
    "        print(self.dict_values())\n",
    "\n",
    "    def dict_insert(self, **kwargs):\n",
    "        for k,v in kwargs.items():\n",
    "            self.dict[k]=v\n",
    "            print('insertion done')\n",
    "\n",
    "            "
   ]
  },
  {
   "cell_type": "code",
   "execution_count": 128,
   "metadata": {},
   "outputs": [],
   "source": [
    "a = dict_parser({'x': 1, 'y': 2, 'z': 3})"
   ]
  },
  {
   "cell_type": "code",
   "execution_count": 124,
   "metadata": {},
   "outputs": [
    {
     "data": {
      "text/plain": [
       "['x', 'y', 'z', <__main__.dict_parser at 0x1ffd5a77820>]"
      ]
     },
     "execution_count": 124,
     "metadata": {},
     "output_type": "execute_result"
    }
   ],
   "source": [
    "a.dict_keys()"
   ]
  },
  {
   "cell_type": "code",
   "execution_count": 125,
   "metadata": {},
   "outputs": [
    {
     "data": {
      "text/plain": [
       "[1, 2, 3, 4]"
      ]
     },
     "execution_count": 125,
     "metadata": {},
     "output_type": "execute_result"
    }
   ],
   "source": [
    "a.dict_values()"
   ]
  },
  {
   "cell_type": "code",
   "execution_count": 122,
   "metadata": {},
   "outputs": [
    {
     "name": "stdout",
     "output_type": "stream",
     "text": [
      "{'x': 1, 'y': 2, 'z': 3} <class 'dict'>\n",
      "['x', 'y', 'z']\n",
      "[1, 2, 3]\n"
     ]
    }
   ],
   "source": [
    "a.dict_input()"
   ]
  },
  {
   "cell_type": "code",
   "execution_count": 123,
   "metadata": {},
   "outputs": [],
   "source": [
    "a.dict_insert(a,4)"
   ]
  },
  {
   "cell_type": "code",
   "execution_count": 129,
   "metadata": {},
   "outputs": [
    {
     "data": {
      "text/plain": [
       "True"
      ]
     },
     "execution_count": 129,
     "metadata": {},
     "output_type": "execute_result"
    }
   ],
   "source": [
    "a.raise_error()"
   ]
  },
  {
   "cell_type": "markdown",
   "metadata": {},
   "source": [
    "If used in a packaged way"
   ]
  },
  {
   "cell_type": "markdown",
   "metadata": {},
   "source": [
    "packages are folders and modules are .py files"
   ]
  },
  {
   "cell_type": "code",
   "execution_count": 1,
   "metadata": {},
   "outputs": [
    {
     "data": {
      "text/plain": [
       "[1, 2, 3]"
      ]
     },
     "execution_count": 1,
     "metadata": {},
     "output_type": "execute_result"
    }
   ],
   "source": [
    "from package_1 import diclass\n",
    "\n",
    "a = diclass.dict_parser({'x': 1, 'y': 2, 'z': 3})\n",
    "a.dict_values()"
   ]
  },
  {
   "attachments": {},
   "cell_type": "markdown",
   "metadata": {},
   "source": [
    "task2"
   ]
  },
  {
   "cell_type": "code",
   "execution_count": 1,
   "metadata": {},
   "outputs": [],
   "source": [
    "import logging \n",
    "\n",
    "class Bankaccount:\n",
    "#PARAMETERIZED CONSTRUCTOR\n",
    "    def __init__(self,Account_number, Name, Balance):\n",
    "        self.Account_number = Account_number\n",
    "        self.Name = Name\n",
    "        self.Balance = Balance\n",
    "\n",
    "    def deposit(self, amount):\n",
    "        try:\n",
    "            if amount <= 0:\n",
    "                raise ValueError('Invalid deposit amount') \n",
    "            else:               \n",
    "                self.Balance += amount\n",
    "                logging.info(f'Deposited TK {amount} to account {self.account_number}, new balance is TK{self.Balance}')\n",
    "        except ValueError as e:\n",
    "            logging.error(str(e))\n",
    "            \n",
    "    def withdrawal(self, amount):\n",
    "        try:\n",
    "            if amount <= 0:\n",
    "                raise ValueError('Invalid withdrawal amount')\n",
    "            elif self.Balance >= amount:\n",
    "                self.Balance -= amount\n",
    "                logging.info(f'Withdrawn TK {amount} to account {self.account_number}, new balance is TK{self.Balance}')\n",
    "            else:\n",
    "                raise ValueError('Insufficient balance')\n",
    "        except ValueError as e:\n",
    "            logging.error(str(e))\n",
    "\n",
    "    def display_details(self):\n",
    "        logging.info(f\"Name: {self.Name} \\nAccount Number: {self.Account_number} \\nBalance: {self.Balance}\")        "
   ]
  },
  {
   "attachments": {},
   "cell_type": "markdown",
   "metadata": {},
   "source": [
    "TASK4"
   ]
  },
  {
   "cell_type": "code",
   "execution_count": null,
   "metadata": {},
   "outputs": [],
   "source": [
    "class dict_parser:\n",
    "    def __init__(self,dict):\n",
    "        self.dict = dict\n",
    "\n",
    "    def test(self):\n",
    "        print('test1')\n",
    "\n",
    "    def dict_keys(self):\n",
    "        if self.raise_error():\n",
    "           return list(self.dict.keys())\n",
    "\n",
    "    def dict_values(self):\n",
    "        if self.raise_error():\n",
    "            return list(self.dict.values())\n",
    "            \n",
    "    def raise_error(self):\n",
    "        if type(self.dict) != dict:\n",
    "            raise Exception(f'{self.dict} is not a dictionary type value')\n",
    "        return True\n",
    "\n",
    "    def dict_input(self):\n",
    "        self.dict = eval(input('please provide the dictioanry: '))\n",
    "        print(self.dict, type(self.dict))\n",
    "        print(self.dict_keys())\n",
    "        print(self.dict_values())\n",
    "\n",
    "    def dict_insert(self, **kwargs):\n",
    "        for k,v in kwargs.items():\n",
    "            self.dict[k]=v\n",
    "            print('insertion done')"
   ]
  },
  {
   "cell_type": "code",
   "execution_count": null,
   "metadata": {},
   "outputs": [],
   "source": [
    "a = dict_parser({'name': 'John', 1: [2, 4, 3]})\n"
   ]
  },
  {
   "cell_type": "markdown",
   "metadata": {},
   "source": [
    "## Inheritance ##"
   ]
  },
  {
   "attachments": {},
   "cell_type": "markdown",
   "metadata": {},
   "source": [
    "inheriting from parent class to child class. The types of inheritance are:\n",
    "- Single inheritance\n",
    "- Multiple inheritance\n",
    "- Multilevel inheritance\n",
    "- Hierarchical inheritance\n",
    "- Hybrid inheritance"
   ]
  },
  {
   "attachments": {},
   "cell_type": "markdown",
   "metadata": {},
   "source": [
    "#### Single inheritance ####"
   ]
  },
  {
   "cell_type": "code",
   "execution_count": 51,
   "metadata": {},
   "outputs": [],
   "source": [
    "class Ineuron:\n",
    "    web = 'https://ineuron.ai'\n",
    "    name = 'ineuron'\n",
    "    \n",
    "    def contact_details(self):\n",
    "        print(f'contact us at {self.web}')\n"
   ]
  },
  {
   "cell_type": "markdown",
   "metadata": {},
   "source": [
    "Now we inherit the class as a method inside another class."
   ]
  },
  {
   "cell_type": "code",
   "execution_count": 65,
   "metadata": {},
   "outputs": [],
   "source": [
    "class datascience(Ineuron):\n",
    "    def __init__(self):\n",
    "        self.year = 2018\n",
    "    def est_details(self):\n",
    "        print(f\"established on {self.year}\")\n",
    "    def contact_details(self):\n",
    "        print(f'contact {self.web}')\n",
    "\n"
   ]
  },
  {
   "attachments": {},
   "cell_type": "markdown",
   "metadata": {},
   "source": [
    "now we can inherit the properties of the ineuron class whioh is the parent class"
   ]
  },
  {
   "cell_type": "code",
   "execution_count": 66,
   "metadata": {},
   "outputs": [
    {
     "name": "stdout",
     "output_type": "stream",
     "text": [
      "contact https://ineuron.ai\n"
     ]
    }
   ],
   "source": [
    "ds = datascience()\n",
    "ds.contact_details()"
   ]
  },
  {
   "cell_type": "markdown",
   "metadata": {},
   "source": [
    "we can overwrite the characteristics of methods of the parent class in a child class\n"
   ]
  },
  {
   "cell_type": "code",
   "execution_count": 67,
   "metadata": {},
   "outputs": [
    {
     "name": "stdout",
     "output_type": "stream",
     "text": [
      "contact us at https://ineuron.ai\n"
     ]
    }
   ],
   "source": [
    "ds1 = Ineuron()\n",
    "ds1.contact_details()"
   ]
  },
  {
   "cell_type": "code",
   "execution_count": 68,
   "metadata": {},
   "outputs": [
    {
     "name": "stdout",
     "output_type": "stream",
     "text": [
      "contact https://ineuron.ai\n"
     ]
    }
   ],
   "source": [
    "ds = datascience()\n",
    "ds.contact_details()"
   ]
  },
  {
   "attachments": {},
   "cell_type": "markdown",
   "metadata": {},
   "source": [
    "#### Multiple inheritance ####"
   ]
  },
  {
   "cell_type": "markdown",
   "metadata": {},
   "source": [
    "we can also inherit from multiple parents"
   ]
  },
  {
   "cell_type": "code",
   "execution_count": 69,
   "metadata": {},
   "outputs": [],
   "source": [
    "class Parent1:\n",
    "    def method1(self):\n",
    "        print(\"method1 of Parent1\")\n",
    "\n",
    "class Parent2:\n",
    "    def method2(self):\n",
    "        print(\"method2 of Parent2\")"
   ]
  },
  {
   "cell_type": "code",
   "execution_count": 72,
   "metadata": {},
   "outputs": [],
   "source": [
    "class Child(Parent1,Parent2):\n",
    "    pass"
   ]
  },
  {
   "cell_type": "code",
   "execution_count": 73,
   "metadata": {},
   "outputs": [
    {
     "name": "stdout",
     "output_type": "stream",
     "text": [
      "method1 of Parent1\n",
      "method2 of Parent2\n"
     ]
    }
   ],
   "source": [
    "c= Child()\n",
    "c.method1()\n",
    "c.method2()"
   ]
  },
  {
   "cell_type": "code",
   "execution_count": 75,
   "metadata": {},
   "outputs": [],
   "source": [
    "class Parent1:\n",
    "    def method(self):\n",
    "        print(\"method of Parent1\")\n",
    "\n",
    "class Parent2:\n",
    "    def method(self):\n",
    "        print(\"method of Parent2\")\n",
    "\n",
    "class Child(Parent1, Parent2):\n",
    "    pass"
   ]
  },
  {
   "cell_type": "code",
   "execution_count": 76,
   "metadata": {},
   "outputs": [
    {
     "name": "stdout",
     "output_type": "stream",
     "text": [
      "method of Parent1\n"
     ]
    }
   ],
   "source": [
    "c = Child()\n",
    "c.method()"
   ]
  },
  {
   "cell_type": "code",
   "execution_count": 77,
   "metadata": {},
   "outputs": [
    {
     "name": "stdout",
     "output_type": "stream",
     "text": [
      "method of Parent2\n"
     ]
    }
   ],
   "source": [
    "class Child(Parent2, Parent1):\n",
    "    pass\n",
    "\n",
    "c = Child()\n",
    "c.method() "
   ]
  },
  {
   "attachments": {},
   "cell_type": "markdown",
   "metadata": {},
   "source": [
    "##### task1 #####"
   ]
  },
  {
   "cell_type": "code",
   "execution_count": 82,
   "metadata": {},
   "outputs": [
    {
     "ename": "AttributeError",
     "evalue": "'Employer' object has no attribute 'pname'",
     "output_type": "error",
     "traceback": [
      "\u001b[1;31m---------------------------------------------------------------------------\u001b[0m",
      "\u001b[1;31mAttributeError\u001b[0m                            Traceback (most recent call last)",
      "\u001b[1;32mC:\\Users\\TECHLA~1\\AppData\\Local\\Temp/ipykernel_23712/2021739072.py\u001b[0m in \u001b[0;36m<module>\u001b[1;34m\u001b[0m\n\u001b[0;32m     21\u001b[0m \u001b[1;31m##e.info()\u001b[0m\u001b[1;33m\u001b[0m\u001b[1;33m\u001b[0m\u001b[1;33m\u001b[0m\u001b[0m\n\u001b[0;32m     22\u001b[0m \u001b[0me\u001b[0m\u001b[1;33m.\u001b[0m\u001b[0mname\u001b[0m\u001b[1;33m\u001b[0m\u001b[1;33m\u001b[0m\u001b[0m\n\u001b[1;32m---> 23\u001b[1;33m \u001b[0me\u001b[0m\u001b[1;33m.\u001b[0m\u001b[0mpname\u001b[0m\u001b[1;33m\u001b[0m\u001b[1;33m\u001b[0m\u001b[0m\n\u001b[0m\u001b[0;32m     24\u001b[0m \u001b[1;31m#e.employee_info()\u001b[0m\u001b[1;33m\u001b[0m\u001b[1;33m\u001b[0m\u001b[1;33m\u001b[0m\u001b[0m\n\u001b[0;32m     25\u001b[0m \u001b[1;33m\u001b[0m\u001b[0m\n",
      "\u001b[1;31mAttributeError\u001b[0m: 'Employer' object has no attribute 'pname'"
     ]
    }
   ],
   "source": [
    "class Company():\n",
    "    def __init__(self):\n",
    "        self.name = 'Apple.Inc'\n",
    "        self.hq = 'California'\n",
    "\n",
    "    def info(self):\n",
    "        print(f\"{self.name} is now in {self.hq}\")\n",
    "    \n",
    "class Person():\n",
    "    def __init__(self):\n",
    "        self.pname = 'Arnob'\n",
    "        self.work_hq = 'California'\n",
    "    \n",
    "    def employee_info(self):\n",
    "        print(f\"{self.pname} works in {self.work_hq}\")\n",
    "    \n",
    "class Employer(Company,Person):\n",
    "    pass\n",
    "\n",
    "e = Employer()\n",
    "e.info()\n",
    "e.name\n",
    "e.pname\n",
    "e.employee_info()\n",
    "\n"
   ]
  },
  {
   "attachments": {},
   "cell_type": "markdown",
   "metadata": {},
   "source": [
    "The issue is because in the Person class, the __init__ method does not call the __init__ method of its parent class and it also does not define any attributes. Since Person class does not define any attributes, the Employer class also does not have access to any attributes from Person class."
   ]
  },
  {
   "attachments": {},
   "cell_type": "markdown",
   "metadata": {},
   "source": [
    "In order to fix the error, you should define the attributes in the `__init__` method of the Person class and call the `super()` method to call the `__init__` method of its parent class."
   ]
  },
  {
   "attachments": {},
   "cell_type": "markdown",
   "metadata": {},
   "source": [
    "`Solving this problem >>>>`"
   ]
  },
  {
   "cell_type": "code",
   "execution_count": 111,
   "metadata": {},
   "outputs": [
    {
     "name": "stdout",
     "output_type": "stream",
     "text": [
      "Apple.Inc is now in California\n",
      "Arnob works in California\n"
     ]
    },
    {
     "data": {
      "text/plain": [
       "('Apple.Inc', 'Arnob')"
      ]
     },
     "execution_count": 111,
     "metadata": {},
     "output_type": "execute_result"
    }
   ],
   "source": [
    "class Company:\n",
    "    def __init__(self, name, hq):\n",
    "        self.name = name\n",
    "        self.hq = hq\n",
    "\n",
    "    def info(self):\n",
    "        print(f\"{self.name} is now in {self.hq}\")\n",
    "    \n",
    "class Person(Company):\n",
    "    def __init__(self, name, hq, pname, work_hq):\n",
    "        super().__init__(name, hq)\n",
    "        self.pname = pname\n",
    "        self.work_hq = work_hq\n",
    "    \n",
    "    def employee_info(self):\n",
    "        print(f\"{self.pname} works in {self.work_hq}\")\n",
    "    \n",
    "class Employer(Person):\n",
    "    pass\n",
    "\n",
    "e = Employer(\"Apple.Inc\", \"California\", \"Arnob\", \"California\")\n",
    "e.info()\n",
    "e.employee_info()\n",
    "e.name,e.pname\n"
   ]
  },
  {
   "attachments": {},
   "cell_type": "markdown",
   "metadata": {},
   "source": [
    "1. `super()` is used when we need to build class(child) that extends the functionality of previously built class(parent).\n",
    "\n",
    "2. `super` function in python is used to access method of the immediate parent class"
   ]
  },
  {
   "attachments": {},
   "cell_type": "markdown",
   "metadata": {},
   "source": [
    "#### Multilevel inheritance ####\n"
   ]
  },
  {
   "cell_type": "code",
   "execution_count": 105,
   "metadata": {},
   "outputs": [],
   "source": [
    "class d1:\n",
    "    def __init__(self, a,b,c) :\n",
    "        self.a = a\n",
    "        self.b = b\n",
    "        self.c = c\n",
    "        \n",
    "    def test(self):\n",
    "        print('test1')\n",
    "\n",
    "class d2(d1):\n",
    "       \n",
    "    def test1(self):\n",
    "        print('test2')\n",
    "\n",
    "class d3(d2):\n",
    "    def test2(self):\n",
    "        print('test3')\n"
   ]
  },
  {
   "cell_type": "code",
   "execution_count": 106,
   "metadata": {},
   "outputs": [],
   "source": [
    "v = d3(4,5,6)"
   ]
  },
  {
   "cell_type": "code",
   "execution_count": 108,
   "metadata": {},
   "outputs": [
    {
     "name": "stdout",
     "output_type": "stream",
     "text": [
      "test3\n",
      "test2\n",
      "test1\n"
     ]
    }
   ],
   "source": [
    "v.test2()\n",
    "v.test1()\n",
    "v.test()\n"
   ]
  },
  {
   "cell_type": "markdown",
   "metadata": {},
   "source": [
    "Task 2"
   ]
  },
  {
   "cell_type": "markdown",
   "metadata": {},
   "source": [
    "1. create your own package for all the list function\n",
    "2. create your own package for all the tuple function\n",
    "3. create your own package for all the set function\n",
    "4. create your own package for all the dictionary function"
   ]
  },
  {
   "cell_type": "markdown",
   "metadata": {},
   "source": [
    "restrictions:\n",
    "1. use exception handling\n",
    "2. never use print statement\n",
    "3. always use logging while writing a code and log every activity performed by code in respective logging file"
   ]
  },
  {
   "cell_type": "code",
   "execution_count": 112,
   "metadata": {},
   "outputs": [],
   "source": [
    "import logging\n",
    "\n",
    "logging.basicConfig(filename='list_func.log', level=logging.DEBUG)\n",
    "\n",
    "class listFunc():\n",
    "    def __init__(self):\n",
    "        pass\n",
    "\n",
    "    def add_item(self,list,item):\n",
    "        try:\n",
    "            list.append(item)\n",
    "            logging.info(f'Successfully added {item} to the list')\n",
    "            return list\n",
    "        except:\n",
    "            logging.exception('An error occured while appending to the list')\n",
    "            raise\n",
    "    \n",
    "    def remove_item(self,list,item):\n",
    "        try:\n",
    "            list.remove(item)\n",
    "            logging.info(f'Successfully removed {item} from the list')\n",
    "            return list\n",
    "        except:\n",
    "            logging.exception('An error occured while removing item from the list')\n",
    "            raise\n",
    "\n",
    "    def search_item(self,list,item):\n",
    "        try:\n",
    "            if item in list:\n",
    "                logging.info(f'Successfully found {item} in the list')\n",
    "                return True\n",
    "            \n",
    "            else:\n",
    "                logging.info(f'Could not find {item} in the list')\n",
    "                return False\n",
    "        except:\n",
    "            logging.exception('An error occured while searching item in the list')\n",
    "            raise    \n",
    "    \n"
   ]
  },
  {
   "cell_type": "code",
   "execution_count": 118,
   "metadata": {},
   "outputs": [
    {
     "data": {
      "text/plain": [
       "[1, 2, 3, 'asdg']"
      ]
     },
     "execution_count": 118,
     "metadata": {},
     "output_type": "execute_result"
    }
   ],
   "source": [
    "c= listFunc()\n",
    "c.add_item([1,2,3],'asdg')\n"
   ]
  },
  {
   "cell_type": "code",
   "execution_count": 119,
   "metadata": {},
   "outputs": [
    {
     "data": {
      "text/plain": [
       "[1, 3, 'asdg']"
      ]
     },
     "execution_count": 119,
     "metadata": {},
     "output_type": "execute_result"
    }
   ],
   "source": [
    "c.remove_item([1, 2, 3, 'asdg'],2)"
   ]
  },
  {
   "cell_type": "code",
   "execution_count": 120,
   "metadata": {},
   "outputs": [
    {
     "data": {
      "text/plain": [
       "True"
      ]
     },
     "execution_count": 120,
     "metadata": {},
     "output_type": "execute_result"
    }
   ],
   "source": [
    "c.search_item([1, 3, 'asdg'],3)"
   ]
  },
  {
   "cell_type": "markdown",
   "metadata": {},
   "source": [
    "Task 3\n",
    "1. create a file class for reading data from respective file with a method name read and write.\n",
    "2. try to inherit read and write method from parent class to child class to perform read and write operation"
   ]
  },
  {
   "cell_type": "markdown",
   "metadata": {},
   "source": [
    "variant 1"
   ]
  },
  {
   "cell_type": "code",
   "execution_count": 2,
   "metadata": {},
   "outputs": [],
   "source": [
    "class fileops():\n",
    "    def __init__(self,filepath) :\n",
    "        self.filepath = filepath\n",
    "    \n",
    "    def file_read(self):\n",
    "        try:\n",
    "            with open(self.filepath,'r+') as f:\n",
    "                f.read()\n",
    "        except Exception as e:\n",
    "            return e\n",
    "\n",
    "    def file_write(self, writings =''):\n",
    "        try:\n",
    "            with open(self.filepath,'a') as f1:\n",
    "                pass         \n",
    "        except Exception as e:\n",
    "            return e\n",
    "        f1.write(writings)\n",
    "        \n",
    "class child(fileops):\n",
    "    pass"
   ]
  },
  {
   "cell_type": "markdown",
   "metadata": {},
   "source": [
    "perfect one"
   ]
  },
  {
   "cell_type": "code",
   "execution_count": 22,
   "metadata": {},
   "outputs": [],
   "source": [
    "import logging\n",
    "logging.basicConfig(filename='report.log', level=logging.DEBUG, format='%(asctime)s %(levelname)s %(message)s',filemode='w')\n",
    "\n",
    "class fileops():\n",
    "    def __init__(self,filename, lines) :\n",
    "        logging.info('Instantiating the class')\n",
    "        self.filename = filename\n",
    "        self.lines = lines\n",
    "    \n",
    "    def file_read(self):\n",
    "        logging.info('Executing read method')\n",
    "        try:\n",
    "            with open(self.filename,'r') as f:\n",
    "                data = f.readline()\n",
    "                while data != '':\n",
    "                    return data\n",
    "                    data = f.readline()\n",
    "\n",
    "        except FileNotFoundError as e:\n",
    "            logging.error('Error occured while opening the file')\n",
    "            logging.exception(f'Error is {e}')\n",
    "\n",
    "    def file_write(self):\n",
    "        logging.info('Executing write method')\n",
    "        try:\n",
    "            with open(self.filename,'a') as f1:\n",
    "                f1.writelines(self.lines ) \n",
    "\n",
    "        except FileNotFoundError as e:\n",
    "            logging.error('Error occured while writing the file')\n",
    "\n",
    "class fileops2(fileops):\n",
    "    pass\n",
    "\n"
   ]
  },
  {
   "cell_type": "code",
   "execution_count": 23,
   "metadata": {},
   "outputs": [
    {
     "data": {
      "text/plain": [
       "'My name is arnob2My name is arnob2My name is arnob2'"
      ]
     },
     "execution_count": 23,
     "metadata": {},
     "output_type": "execute_result"
    }
   ],
   "source": [
    "file = r'test0.txt'\n",
    "lines = 'My name is arnob2'\n",
    "fileobj = fileops2(file, lines)\n",
    "\n",
    "\n",
    "fileobj.file_write()\n",
    "fileobj.file_read()"
   ]
  },
  {
   "attachments": {},
   "cell_type": "markdown",
   "metadata": {},
   "source": [
    "##### Hierarchical inheritance #####"
   ]
  },
  {
   "attachments": {},
   "cell_type": "markdown",
   "metadata": {},
   "source": [
    "Hierarchical inheritance is a type of inheritance in which a single class serves as the base class for multiple derived classes."
   ]
  },
  {
   "cell_type": "code",
   "execution_count": 121,
   "metadata": {},
   "outputs": [
    {
     "name": "stdout",
     "output_type": "stream",
     "text": [
      "Whiskers\n",
      "Cat\n",
      "Siamese\n",
      "Whiskers plays with string\n",
      "Fido\n",
      "Dog\n",
      "Golden Retriever\n",
      "Fido plays with ball\n"
     ]
    }
   ],
   "source": [
    "class Animal:\n",
    "    def __init__(self, name, species):\n",
    "        self.name = name\n",
    "        self.species = species\n",
    "\n",
    "    def __str__(self):\n",
    "        return f'{self.name} is a {self.species}'\n",
    "\n",
    "class Cat(Animal):\n",
    "    def __init__(self, name, breed, toy):\n",
    "        super().__init__(name, species=\"Cat\")\n",
    "        self.breed = breed\n",
    "        self.toy = toy\n",
    "\n",
    "    def play(self):\n",
    "        return f'{self.name} plays with {self.toy}'\n",
    "\n",
    "class Dog(Animal):\n",
    "    def __init__(self, name, breed, toy):\n",
    "        super().__init__(name, species=\"Dog\")\n",
    "        self.breed = breed\n",
    "        self.toy = toy\n",
    "\n",
    "    def play(self):\n",
    "        return f'{self.name} plays with {self.toy}'\n",
    "\n",
    "cat1 = Cat(\"Whiskers\", \"Siamese\", \"string\")\n",
    "dog1 = Dog(\"Fido\", \"Golden Retriever\", \"ball\")\n",
    "\n",
    "print(cat1.name)\n",
    "print(cat1.species)\n",
    "print(cat1.breed)\n",
    "print(cat1.play())\n",
    "\n",
    "print(dog1.name)\n",
    "print(dog1.species)\n",
    "print(dog1.breed)\n",
    "print(dog1.play())"
   ]
  },
  {
   "attachments": {},
   "cell_type": "markdown",
   "metadata": {},
   "source": [
    "In this example, the class `Animal` is the base class and `Cat` and `Dog` are derived classes. Both derived classes inherit the properties `name` and `species` from the base class `Animals`. They also have their own properties and methods. The `super()` function is used to call the `__init__` method of the base class, allowing the derived classes to inherit its properties.\n",
    "\n",
    "In this example, `Cat` and `Dog` classes inherit properties from the base class `Animal` and also have their own properties and methods."
   ]
  },
  {
   "attachments": {},
   "cell_type": "markdown",
   "metadata": {},
   "source": [
    "##### Hybrid inheritance #####"
   ]
  },
  {
   "attachments": {},
   "cell_type": "markdown",
   "metadata": {},
   "source": [
    "Hybrid inheritance is a combination of multiple types of inheritance, typically a combination of single inheritance and multiple inheritance. In hybrid inheritance, a class can inherit properties and methods from more than one base class."
   ]
  },
  {
   "cell_type": "code",
   "execution_count": null,
   "metadata": {},
   "outputs": [],
   "source": [
    "class Employee:\n",
    "    def __init__(self, name, salary):\n",
    "        self.name = name\n",
    "        self.salary = salary\n",
    "\n",
    "    def display_employee_details(self):\n",
    "        return f'{self.name} earns {self.salary}'\n",
    "\n",
    "class Person:\n",
    "    def __init__(self, name, age):\n",
    "        self.name = name\n",
    "        self.age = age\n",
    "\n",
    "    def display_person_details(self):\n",
    "        return f'{self.name} is {self.age} years old'\n",
    "\n",
    "class Manager(Employee, Person):\n",
    "    def __init__(self, name, salary, age, department):\n",
    "        Employee.__init__(self, name, salary)\n",
    "        Person.__init__(self, name, age)\n",
    "        self.department = department\n",
    "    \n",
    "    def display_manager_details(self):\n",
    "        return f'{self.name} is manager of {self.department} department and earns {self.salary}'\n",
    "\n",
    "manager1 = Manager(\"John\", 50000, 35, \"IT\")\n",
    "print(manager1.display_employee_details())\n",
    "print(manager1.display_person_details())\n",
    "print(manager1.display_manager_details())\n"
   ]
  },
  {
   "attachments": {},
   "cell_type": "markdown",
   "metadata": {},
   "source": [
    "In this example, the class `Manager` inherits from both the classes `Employee` and `Person` using multiple inheritance. The class `Manager` inherits the properties `name`, `salary`, `age` from both the base classes `Employee` and `Person` and also has its own properties and methods.\n",
    "\n",
    "In this example, `Manager` class inherits properties from two different base classes `Employee` and `Person` and also have its own properties and methods. The `Manager` class uses the `__init__` method of both the base classes to inherit their properties.\n",
    "\n",
    "It is important to note that, when multiple inheritance is used, and the derived class inherits from two base classes that have a common method, the derived class will use the method from the first base class mentioned in the inheritance list. This can lead to some unexpected behavior and it's always good to be aware of the order of inheritance."
   ]
  },
  {
   "cell_type": "markdown",
   "metadata": {},
   "source": [
    "## Encapsulation ##"
   ]
  },
  {
   "cell_type": "markdown",
   "metadata": {},
   "source": [
    "#### Public ####\n"
   ]
  },
  {
   "cell_type": "markdown",
   "metadata": {},
   "source": [
    "we can access it anywhere"
   ]
  },
  {
   "cell_type": "code",
   "execution_count": 27,
   "metadata": {},
   "outputs": [],
   "source": [
    "class test:\n",
    "    def __init__(self,a,b,c):\n",
    "        self.a = a\n",
    "        self.b = b\n",
    "        self.c = c\n"
   ]
  },
  {
   "cell_type": "code",
   "execution_count": 28,
   "metadata": {},
   "outputs": [
    {
     "data": {
      "text/plain": [
       "(4, 5, 6)"
      ]
     },
     "execution_count": 28,
     "metadata": {},
     "output_type": "execute_result"
    }
   ],
   "source": [
    "u = test(4,5,6)\n",
    "u.a,u.b,u.c"
   ]
  },
  {
   "cell_type": "markdown",
   "metadata": {},
   "source": [
    "#### Protected ####"
   ]
  },
  {
   "cell_type": "markdown",
   "metadata": {},
   "source": [
    "now this means protected by '_'. we can only access the class inside a subclass and class"
   ]
  },
  {
   "cell_type": "code",
   "execution_count": 29,
   "metadata": {},
   "outputs": [],
   "source": [
    "class test:\n",
    "    def __init__(self,a,b,c):\n",
    "        self._a = a\n",
    "        self._b = b\n",
    "        self._c = c\n"
   ]
  },
  {
   "cell_type": "code",
   "execution_count": 30,
   "metadata": {},
   "outputs": [
    {
     "ename": "AttributeError",
     "evalue": "'test' object has no attribute 'a'",
     "output_type": "error",
     "traceback": [
      "\u001b[1;31m---------------------------------------------------------------------------\u001b[0m",
      "\u001b[1;31mAttributeError\u001b[0m                            Traceback (most recent call last)",
      "\u001b[1;32mC:\\Users\\TECHLA~1\\AppData\\Local\\Temp/ipykernel_23712/3287949616.py\u001b[0m in \u001b[0;36m<module>\u001b[1;34m\u001b[0m\n\u001b[0;32m      1\u001b[0m \u001b[0mu\u001b[0m \u001b[1;33m=\u001b[0m \u001b[0mtest\u001b[0m\u001b[1;33m(\u001b[0m\u001b[1;36m4\u001b[0m\u001b[1;33m,\u001b[0m\u001b[1;36m5\u001b[0m\u001b[1;33m,\u001b[0m\u001b[1;36m6\u001b[0m\u001b[1;33m)\u001b[0m\u001b[1;33m\u001b[0m\u001b[1;33m\u001b[0m\u001b[0m\n\u001b[1;32m----> 2\u001b[1;33m \u001b[0mu\u001b[0m\u001b[1;33m.\u001b[0m\u001b[0ma\u001b[0m\u001b[1;33m,\u001b[0m\u001b[0mu\u001b[0m\u001b[1;33m.\u001b[0m\u001b[0mb\u001b[0m\u001b[1;33m,\u001b[0m\u001b[0mu\u001b[0m\u001b[1;33m.\u001b[0m\u001b[0mc\u001b[0m\u001b[1;33m\u001b[0m\u001b[1;33m\u001b[0m\u001b[0m\n\u001b[0m",
      "\u001b[1;31mAttributeError\u001b[0m: 'test' object has no attribute 'a'"
     ]
    }
   ],
   "source": [
    "u = test(4,5,6)\n",
    "u.a,u.b,u.c"
   ]
  },
  {
   "cell_type": "code",
   "execution_count": 31,
   "metadata": {},
   "outputs": [
    {
     "data": {
      "text/plain": [
       "(4, 5, 6)"
      ]
     },
     "execution_count": 31,
     "metadata": {},
     "output_type": "execute_result"
    }
   ],
   "source": [
    "u = test(4,5,6)\n",
    "u._a,u._b,u._c"
   ]
  },
  {
   "cell_type": "markdown",
   "metadata": {},
   "source": [
    "#### Private ####"
   ]
  },
  {
   "cell_type": "markdown",
   "metadata": {},
   "source": [
    "Finally, **private**. this means that the variable is private. accessed only by the parent class "
   ]
  },
  {
   "cell_type": "code",
   "execution_count": 32,
   "metadata": {},
   "outputs": [],
   "source": [
    "class test:\n",
    "    def __init__(self,a,b,c):\n",
    "        self.__a = a\n",
    "        self.__b = b\n",
    "        self.__c = c"
   ]
  },
  {
   "cell_type": "code",
   "execution_count": 33,
   "metadata": {},
   "outputs": [
    {
     "ename": "AttributeError",
     "evalue": "'test' object has no attribute '__a'",
     "output_type": "error",
     "traceback": [
      "\u001b[1;31m---------------------------------------------------------------------------\u001b[0m",
      "\u001b[1;31mAttributeError\u001b[0m                            Traceback (most recent call last)",
      "\u001b[1;32mC:\\Users\\TECHLA~1\\AppData\\Local\\Temp/ipykernel_23712/261741523.py\u001b[0m in \u001b[0;36m<module>\u001b[1;34m\u001b[0m\n\u001b[0;32m      1\u001b[0m \u001b[0mu\u001b[0m \u001b[1;33m=\u001b[0m \u001b[0mtest\u001b[0m\u001b[1;33m(\u001b[0m\u001b[1;36m4\u001b[0m\u001b[1;33m,\u001b[0m\u001b[1;36m5\u001b[0m\u001b[1;33m,\u001b[0m\u001b[1;36m6\u001b[0m\u001b[1;33m)\u001b[0m\u001b[1;33m\u001b[0m\u001b[1;33m\u001b[0m\u001b[0m\n\u001b[1;32m----> 2\u001b[1;33m \u001b[0mu\u001b[0m\u001b[1;33m.\u001b[0m\u001b[0m__a\u001b[0m\u001b[1;33m,\u001b[0m\u001b[0mu\u001b[0m\u001b[1;33m.\u001b[0m\u001b[0m__b\u001b[0m\u001b[1;33m,\u001b[0m\u001b[0mu\u001b[0m\u001b[1;33m.\u001b[0m\u001b[0m__c\u001b[0m\u001b[1;33m\u001b[0m\u001b[1;33m\u001b[0m\u001b[0m\n\u001b[0m",
      "\u001b[1;31mAttributeError\u001b[0m: 'test' object has no attribute '__a'"
     ]
    }
   ],
   "source": [
    "u = test(4,5,6)\n",
    "u.__a,u.__b,u.__c"
   ]
  },
  {
   "cell_type": "markdown",
   "metadata": {},
   "source": [
    "To access it,"
   ]
  },
  {
   "cell_type": "code",
   "execution_count": 34,
   "metadata": {},
   "outputs": [
    {
     "data": {
      "text/plain": [
       "5"
      ]
     },
     "execution_count": 34,
     "metadata": {},
     "output_type": "execute_result"
    }
   ],
   "source": [
    "u = test(4,5,6)\n",
    "u._test__b"
   ]
  },
  {
   "cell_type": "markdown",
   "metadata": {},
   "source": [
    "Now for inheritance"
   ]
  },
  {
   "cell_type": "code",
   "execution_count": 65,
   "metadata": {},
   "outputs": [],
   "source": [
    "class test:\n",
    "    def __init__(self,a,b,c):\n",
    "        self._a = a\n",
    "        self.__b = b\n",
    "        self.c = c\n",
    "\n",
    "class test1(test):\n",
    "    pass\n",
    "v = test(4,5,6)"
   ]
  },
  {
   "cell_type": "code",
   "execution_count": 69,
   "metadata": {},
   "outputs": [
    {
     "data": {
      "text/plain": [
       "(4, 5, 6)"
      ]
     },
     "execution_count": 69,
     "metadata": {},
     "output_type": "execute_result"
    }
   ],
   "source": [
    "v._a, v._test__b, v.c\n"
   ]
  },
  {
   "cell_type": "markdown",
   "metadata": {},
   "source": [
    "now"
   ]
  },
  {
   "cell_type": "code",
   "execution_count": 73,
   "metadata": {},
   "outputs": [],
   "source": [
    "u = test1(4,5,6)\n"
   ]
  },
  {
   "cell_type": "code",
   "execution_count": 74,
   "metadata": {},
   "outputs": [
    {
     "data": {
      "text/plain": [
       "6"
      ]
     },
     "execution_count": 74,
     "metadata": {},
     "output_type": "execute_result"
    }
   ],
   "source": [
    "u.c"
   ]
  },
  {
   "cell_type": "code",
   "execution_count": 77,
   "metadata": {},
   "outputs": [
    {
     "data": {
      "text/plain": [
       "4"
      ]
     },
     "execution_count": 77,
     "metadata": {},
     "output_type": "execute_result"
    }
   ],
   "source": [
    "u._a"
   ]
  },
  {
   "cell_type": "markdown",
   "metadata": {},
   "source": [
    "But we cant access the private variable from the subclasses. we are trying to hide it from users. those who are aware about the class name will be able to access it"
   ]
  },
  {
   "cell_type": "code",
   "execution_count": 79,
   "metadata": {},
   "outputs": [
    {
     "ename": "AttributeError",
     "evalue": "'test1' object has no attribute '_test1__b'",
     "output_type": "error",
     "traceback": [
      "\u001b[1;31m---------------------------------------------------------------------------\u001b[0m",
      "\u001b[1;31mAttributeError\u001b[0m                            Traceback (most recent call last)",
      "\u001b[1;32mC:\\Users\\TECHLA~1\\AppData\\Local\\Temp/ipykernel_15524/4083783106.py\u001b[0m in \u001b[0;36m<module>\u001b[1;34m\u001b[0m\n\u001b[1;32m----> 1\u001b[1;33m \u001b[0mu\u001b[0m\u001b[1;33m.\u001b[0m\u001b[0m_test1__b\u001b[0m\u001b[1;33m\u001b[0m\u001b[1;33m\u001b[0m\u001b[0m\n\u001b[0m",
      "\u001b[1;31mAttributeError\u001b[0m: 'test1' object has no attribute '_test1__b'"
     ]
    }
   ],
   "source": [
    "u._test1__b"
   ]
  },
  {
   "cell_type": "markdown",
   "metadata": {},
   "source": [
    "For this we need to use the notion of the parent class to inherit"
   ]
  },
  {
   "cell_type": "code",
   "execution_count": 80,
   "metadata": {},
   "outputs": [
    {
     "data": {
      "text/plain": [
       "5"
      ]
     },
     "execution_count": 80,
     "metadata": {},
     "output_type": "execute_result"
    }
   ],
   "source": [
    "u._test__b"
   ]
  },
  {
   "cell_type": "markdown",
   "metadata": {},
   "source": [
    "let us see a real use case"
   ]
  },
  {
   "cell_type": "code",
   "execution_count": 83,
   "metadata": {},
   "outputs": [],
   "source": [
    "class bonuscalculator():\n",
    "    def __init__(self,empid,emprating) :\n",
    "        self.empid =empid\n",
    "        self.emprating = emprating\n",
    "        self.__bonusforA = '50%'\n",
    "        self.__bonusforB = '60%'\n",
    "        self.__bonusforC = '80%'\n",
    "    \n",
    "    def bonuscalc(self):\n",
    "        if self.emprating == 'A':\n",
    "            bonus = self.__bonusforA\n",
    "            return bonus\n",
    "        elif self.emprating == 'B':\n",
    "            bonus = self.__bonusforB\n",
    "            return bonus\n",
    "        else:\n",
    "            bonus = self.__bonusforC\n",
    "            return bonus\n",
    "    "
   ]
  },
  {
   "cell_type": "code",
   "execution_count": 95,
   "metadata": {},
   "outputs": [],
   "source": [
    "emp1 = bonuscalculator(101,'A')\n",
    "emp2 = bonuscalculator(102,'B')\n",
    "emp3 = bonuscalculator(103,'C')"
   ]
  },
  {
   "cell_type": "code",
   "execution_count": 96,
   "metadata": {},
   "outputs": [
    {
     "data": {
      "text/plain": [
       "'50%'"
      ]
     },
     "execution_count": 96,
     "metadata": {},
     "output_type": "execute_result"
    }
   ],
   "source": [
    "emp1.bonuscalc()\n"
   ]
  },
  {
   "cell_type": "code",
   "execution_count": 97,
   "metadata": {},
   "outputs": [
    {
     "data": {
      "text/plain": [
       "101"
      ]
     },
     "execution_count": 97,
     "metadata": {},
     "output_type": "execute_result"
    }
   ],
   "source": [
    "emp1.empid"
   ]
  },
  {
   "cell_type": "code",
   "execution_count": 98,
   "metadata": {},
   "outputs": [
    {
     "data": {
      "text/plain": [
       "104"
      ]
     },
     "execution_count": 98,
     "metadata": {},
     "output_type": "execute_result"
    }
   ],
   "source": [
    "emp1.empid = 104\n",
    "emp1.empid"
   ]
  },
  {
   "cell_type": "markdown",
   "metadata": {},
   "source": [
    "AGAIN\n"
   ]
  },
  {
   "cell_type": "code",
   "execution_count": 88,
   "metadata": {},
   "outputs": [],
   "source": [
    "emp1.emprating = 'B'"
   ]
  },
  {
   "cell_type": "code",
   "execution_count": 99,
   "metadata": {},
   "outputs": [
    {
     "data": {
      "text/plain": [
       "'50%'"
      ]
     },
     "execution_count": 99,
     "metadata": {},
     "output_type": "execute_result"
    }
   ],
   "source": [
    "emp1.bonuscalc()"
   ]
  },
  {
   "cell_type": "markdown",
   "metadata": {},
   "source": [
    "BUT"
   ]
  },
  {
   "cell_type": "code",
   "execution_count": 100,
   "metadata": {},
   "outputs": [],
   "source": [
    "emp1.__bonusforA = '90%'"
   ]
  },
  {
   "cell_type": "code",
   "execution_count": 101,
   "metadata": {},
   "outputs": [
    {
     "data": {
      "text/plain": [
       "'50%'"
      ]
     },
     "execution_count": 101,
     "metadata": {},
     "output_type": "execute_result"
    }
   ],
   "source": [
    "emp1.bonuscalc()"
   ]
  },
  {
   "cell_type": "code",
   "execution_count": 102,
   "metadata": {},
   "outputs": [
    {
     "data": {
      "text/plain": [
       "'60%'"
      ]
     },
     "execution_count": 102,
     "metadata": {},
     "output_type": "execute_result"
    }
   ],
   "source": [
    "emp2.bonuscalc()"
   ]
  },
  {
   "cell_type": "code",
   "execution_count": 103,
   "metadata": {},
   "outputs": [],
   "source": [
    "emp2.__bonusforB = '100%'"
   ]
  },
  {
   "cell_type": "code",
   "execution_count": 104,
   "metadata": {},
   "outputs": [
    {
     "data": {
      "text/plain": [
       "'60%'"
      ]
     },
     "execution_count": 104,
     "metadata": {},
     "output_type": "execute_result"
    }
   ],
   "source": [
    "emp2.bonuscalc()"
   ]
  },
  {
   "cell_type": "markdown",
   "metadata": {},
   "source": [
    "IT didnt work. so we cant change the value without accessing the class"
   ]
  },
  {
   "cell_type": "markdown",
   "metadata": {},
   "source": [
    "the solution"
   ]
  },
  {
   "cell_type": "code",
   "execution_count": 107,
   "metadata": {},
   "outputs": [
    {
     "data": {
      "text/plain": [
       "'60%'"
      ]
     },
     "execution_count": 107,
     "metadata": {},
     "output_type": "execute_result"
    }
   ],
   "source": [
    "emp2._bonuscalculator__bonusforB"
   ]
  },
  {
   "cell_type": "markdown",
   "metadata": {},
   "source": [
    "With classname along with variable name its possible"
   ]
  },
  {
   "cell_type": "code",
   "execution_count": 108,
   "metadata": {},
   "outputs": [
    {
     "data": {
      "text/plain": [
       "'80%'"
      ]
     },
     "execution_count": 108,
     "metadata": {},
     "output_type": "execute_result"
    }
   ],
   "source": [
    "emp2._bonuscalculator__bonusforB = '80%'\n",
    "emp2._bonuscalculator__bonusforB"
   ]
  },
  {
   "cell_type": "code",
   "execution_count": 105,
   "metadata": {},
   "outputs": [],
   "source": [
    "class mylist:\n",
    "    def __init__(self):\n",
    "        self.count = 0\n",
    "        list1 = input('provide the list')[1:-1].split(\",\")\n",
    "        self.list1=[int(i) for i in list1]\n",
    "    def ml_append(self,num1):\n",
    "        self.list1 += [num1]\n",
    "        return self.list1\n",
    "    def ml_count(self):\n",
    "        for i in self.list1:\n",
    "                self.count += 1\n",
    "        return self.count\n",
    "        "
   ]
  },
  {
   "cell_type": "code",
   "execution_count": 106,
   "metadata": {},
   "outputs": [
    {
     "ename": "ValueError",
     "evalue": "invalid literal for int() with base 10: ''",
     "output_type": "error",
     "traceback": [
      "\u001b[1;31m---------------------------------------------------------------------------\u001b[0m",
      "\u001b[1;31mValueError\u001b[0m                                Traceback (most recent call last)",
      "\u001b[1;32mC:\\Users\\TECHLA~1\\AppData\\Local\\Temp/ipykernel_15524/3309426072.py\u001b[0m in \u001b[0;36m<module>\u001b[1;34m\u001b[0m\n\u001b[1;32m----> 1\u001b[1;33m \u001b[0ml\u001b[0m \u001b[1;33m=\u001b[0m \u001b[0mmylist\u001b[0m\u001b[1;33m(\u001b[0m\u001b[1;33m)\u001b[0m\u001b[1;33m\u001b[0m\u001b[1;33m\u001b[0m\u001b[0m\n\u001b[0m",
      "\u001b[1;32mC:\\Users\\TECHLA~1\\AppData\\Local\\Temp/ipykernel_15524/3801890852.py\u001b[0m in \u001b[0;36m__init__\u001b[1;34m(self)\u001b[0m\n\u001b[0;32m      3\u001b[0m         \u001b[0mself\u001b[0m\u001b[1;33m.\u001b[0m\u001b[0mcount\u001b[0m \u001b[1;33m=\u001b[0m \u001b[1;36m0\u001b[0m\u001b[1;33m\u001b[0m\u001b[1;33m\u001b[0m\u001b[0m\n\u001b[0;32m      4\u001b[0m         \u001b[0mlist1\u001b[0m \u001b[1;33m=\u001b[0m \u001b[0minput\u001b[0m\u001b[1;33m(\u001b[0m\u001b[1;34m'provide the list'\u001b[0m\u001b[1;33m)\u001b[0m\u001b[1;33m[\u001b[0m\u001b[1;36m1\u001b[0m\u001b[1;33m:\u001b[0m\u001b[1;33m-\u001b[0m\u001b[1;36m1\u001b[0m\u001b[1;33m]\u001b[0m\u001b[1;33m.\u001b[0m\u001b[0msplit\u001b[0m\u001b[1;33m(\u001b[0m\u001b[1;34m\",\"\u001b[0m\u001b[1;33m)\u001b[0m\u001b[1;33m\u001b[0m\u001b[1;33m\u001b[0m\u001b[0m\n\u001b[1;32m----> 5\u001b[1;33m         \u001b[0mself\u001b[0m\u001b[1;33m.\u001b[0m\u001b[0mlist1\u001b[0m\u001b[1;33m=\u001b[0m\u001b[1;33m[\u001b[0m\u001b[0mint\u001b[0m\u001b[1;33m(\u001b[0m\u001b[0mi\u001b[0m\u001b[1;33m)\u001b[0m \u001b[1;32mfor\u001b[0m \u001b[0mi\u001b[0m \u001b[1;32min\u001b[0m \u001b[0mlist1\u001b[0m\u001b[1;33m]\u001b[0m\u001b[1;33m\u001b[0m\u001b[1;33m\u001b[0m\u001b[0m\n\u001b[0m\u001b[0;32m      6\u001b[0m     \u001b[1;32mdef\u001b[0m \u001b[0mml_append\u001b[0m\u001b[1;33m(\u001b[0m\u001b[0mself\u001b[0m\u001b[1;33m,\u001b[0m\u001b[0mnum1\u001b[0m\u001b[1;33m)\u001b[0m\u001b[1;33m:\u001b[0m\u001b[1;33m\u001b[0m\u001b[1;33m\u001b[0m\u001b[0m\n\u001b[0;32m      7\u001b[0m         \u001b[0mself\u001b[0m\u001b[1;33m.\u001b[0m\u001b[0mlist1\u001b[0m \u001b[1;33m+=\u001b[0m \u001b[1;33m[\u001b[0m\u001b[0mnum1\u001b[0m\u001b[1;33m]\u001b[0m\u001b[1;33m\u001b[0m\u001b[1;33m\u001b[0m\u001b[0m\n",
      "\u001b[1;32mC:\\Users\\TECHLA~1\\AppData\\Local\\Temp/ipykernel_15524/3801890852.py\u001b[0m in \u001b[0;36m<listcomp>\u001b[1;34m(.0)\u001b[0m\n\u001b[0;32m      3\u001b[0m         \u001b[0mself\u001b[0m\u001b[1;33m.\u001b[0m\u001b[0mcount\u001b[0m \u001b[1;33m=\u001b[0m \u001b[1;36m0\u001b[0m\u001b[1;33m\u001b[0m\u001b[1;33m\u001b[0m\u001b[0m\n\u001b[0;32m      4\u001b[0m         \u001b[0mlist1\u001b[0m \u001b[1;33m=\u001b[0m \u001b[0minput\u001b[0m\u001b[1;33m(\u001b[0m\u001b[1;34m'provide the list'\u001b[0m\u001b[1;33m)\u001b[0m\u001b[1;33m[\u001b[0m\u001b[1;36m1\u001b[0m\u001b[1;33m:\u001b[0m\u001b[1;33m-\u001b[0m\u001b[1;36m1\u001b[0m\u001b[1;33m]\u001b[0m\u001b[1;33m.\u001b[0m\u001b[0msplit\u001b[0m\u001b[1;33m(\u001b[0m\u001b[1;34m\",\"\u001b[0m\u001b[1;33m)\u001b[0m\u001b[1;33m\u001b[0m\u001b[1;33m\u001b[0m\u001b[0m\n\u001b[1;32m----> 5\u001b[1;33m         \u001b[0mself\u001b[0m\u001b[1;33m.\u001b[0m\u001b[0mlist1\u001b[0m\u001b[1;33m=\u001b[0m\u001b[1;33m[\u001b[0m\u001b[0mint\u001b[0m\u001b[1;33m(\u001b[0m\u001b[0mi\u001b[0m\u001b[1;33m)\u001b[0m \u001b[1;32mfor\u001b[0m \u001b[0mi\u001b[0m \u001b[1;32min\u001b[0m \u001b[0mlist1\u001b[0m\u001b[1;33m]\u001b[0m\u001b[1;33m\u001b[0m\u001b[1;33m\u001b[0m\u001b[0m\n\u001b[0m\u001b[0;32m      6\u001b[0m     \u001b[1;32mdef\u001b[0m \u001b[0mml_append\u001b[0m\u001b[1;33m(\u001b[0m\u001b[0mself\u001b[0m\u001b[1;33m,\u001b[0m\u001b[0mnum1\u001b[0m\u001b[1;33m)\u001b[0m\u001b[1;33m:\u001b[0m\u001b[1;33m\u001b[0m\u001b[1;33m\u001b[0m\u001b[0m\n\u001b[0;32m      7\u001b[0m         \u001b[0mself\u001b[0m\u001b[1;33m.\u001b[0m\u001b[0mlist1\u001b[0m \u001b[1;33m+=\u001b[0m \u001b[1;33m[\u001b[0m\u001b[0mnum1\u001b[0m\u001b[1;33m]\u001b[0m\u001b[1;33m\u001b[0m\u001b[1;33m\u001b[0m\u001b[0m\n",
      "\u001b[1;31mValueError\u001b[0m: invalid literal for int() with base 10: ''"
     ]
    }
   ],
   "source": [
    "l = mylist()"
   ]
  },
  {
   "cell_type": "code",
   "execution_count": null,
   "metadata": {},
   "outputs": [
    {
     "data": {
      "text/plain": [
       "[32, 234, 5125]"
      ]
     },
     "execution_count": 45,
     "metadata": {},
     "output_type": "execute_result"
    }
   ],
   "source": [
    "[32,234,5125]"
   ]
  },
  {
   "cell_type": "code",
   "execution_count": null,
   "metadata": {},
   "outputs": [
    {
     "data": {
      "text/plain": [
       "'C:\\\\Users\\\\Tech Land\\\\Downloads\\\\code\\\\ineuron\\\\python\\\\python fundamentals\\\\my_func\\\\mylist_func'"
      ]
     },
     "execution_count": 68,
     "metadata": {},
     "output_type": "execute_result"
    }
   ],
   "source": [
    "import os \n",
    "os.getcwd()"
   ]
  },
  {
   "cell_type": "code",
   "execution_count": null,
   "metadata": {},
   "outputs": [],
   "source": [
    "import os\n",
    "path = os.getcwd()\n",
    "if not os.path.exists('my_func'):\n",
    "    os.makedirs(os.path.join('my_func','mylist_func'))\n",
    "else:\n",
    "    pass\n",
    "\n"
   ]
  },
  {
   "cell_type": "code",
   "execution_count": null,
   "metadata": {},
   "outputs": [],
   "source": [
    "os.chdir(r'C:\\Users\\Tech Land\\Downloads\\code\\ineuron\\python\\python fundamentals\\my_func\\mylist_func')"
   ]
  },
  {
   "cell_type": "code",
   "execution_count": null,
   "metadata": {},
   "outputs": [],
   "source": [
    "with open('list_class.py','w', encoding='utf-8') as f:\n",
    "    pass\n"
   ]
  },
  {
   "cell_type": "code",
   "execution_count": null,
   "metadata": {},
   "outputs": [],
   "source": [
    "import list_class\n",
    "f = mylist()\n"
   ]
  },
  {
   "cell_type": "code",
   "execution_count": null,
   "metadata": {},
   "outputs": [
    {
     "data": {
      "text/plain": [
       "[1, 2, 3, 4, 5, 6, 7, 8, 2]"
      ]
     },
     "execution_count": 71,
     "metadata": {},
     "output_type": "execute_result"
    }
   ],
   "source": [
    "f.ml_append(2)"
   ]
  },
  {
   "cell_type": "code",
   "execution_count": null,
   "metadata": {},
   "outputs": [],
   "source": [
    "os.makedirs(os.path.join(r'C:\\Users\\Tech Land\\Downloads\\code\\ineuron\\python\\python fundamentals\\my_func\\mylist_func','logs'))"
   ]
  },
  {
   "cell_type": "code",
   "execution_count": 44,
   "metadata": {},
   "outputs": [],
   "source": [
    "class Rectangle:\n",
    "\n",
    "    def __init__(self):\n",
    "        self.__length = 5\n",
    "        self._breadth = 3\n",
    "\n",
    "        print(self.__length)\n",
    "        print(self._breadth)"
   ]
  },
  {
   "attachments": {},
   "cell_type": "markdown",
   "metadata": {},
   "source": [
    "here we can print the private variable as they are inside a class.\n"
   ]
  },
  {
   "cell_type": "code",
   "execution_count": 45,
   "metadata": {},
   "outputs": [
    {
     "name": "stdout",
     "output_type": "stream",
     "text": [
      "5\n",
      "3\n"
     ]
    }
   ],
   "source": [
    "r1 = Rectangle()"
   ]
  },
  {
   "attachments": {},
   "cell_type": "markdown",
   "metadata": {},
   "source": [
    "Outside the class, it does not work when called as an object"
   ]
  },
  {
   "cell_type": "code",
   "execution_count": 46,
   "metadata": {},
   "outputs": [
    {
     "ename": "AttributeError",
     "evalue": "'Rectangle' object has no attribute '__length'",
     "output_type": "error",
     "traceback": [
      "\u001b[1;31m---------------------------------------------------------------------------\u001b[0m",
      "\u001b[1;31mAttributeError\u001b[0m                            Traceback (most recent call last)",
      "\u001b[1;32mC:\\Users\\TECHLA~1\\AppData\\Local\\Temp/ipykernel_23712/4091226209.py\u001b[0m in \u001b[0;36m<module>\u001b[1;34m\u001b[0m\n\u001b[1;32m----> 1\u001b[1;33m \u001b[0mr1\u001b[0m\u001b[1;33m.\u001b[0m\u001b[0m__length\u001b[0m\u001b[1;33m\u001b[0m\u001b[1;33m\u001b[0m\u001b[0m\n\u001b[0m",
      "\u001b[1;31mAttributeError\u001b[0m: 'Rectangle' object has no attribute '__length'"
     ]
    }
   ],
   "source": [
    "r1.__length"
   ]
  },
  {
   "cell_type": "code",
   "execution_count": 47,
   "metadata": {},
   "outputs": [
    {
     "data": {
      "text/plain": [
       "5"
      ]
     },
     "execution_count": 47,
     "metadata": {},
     "output_type": "execute_result"
    }
   ],
   "source": [
    "r1._Rectangle__length"
   ]
  },
  {
   "cell_type": "code",
   "execution_count": 48,
   "metadata": {},
   "outputs": [
    {
     "data": {
      "text/plain": [
       "3"
      ]
     },
     "execution_count": 48,
     "metadata": {},
     "output_type": "execute_result"
    }
   ],
   "source": [
    "r1._breadth"
   ]
  },
  {
   "cell_type": "code",
   "execution_count": null,
   "metadata": {},
   "outputs": [],
   "source": [
    "class Tyres:\n",
    "    def __init__(self,branch,belted_bias,opt_pressure):\n",
    "        self.branch=branch\n",
    "        self.belted_bias=belted_bias\n",
    "        self.opt_pressure=opt_pressure\n",
    "        \n",
    "    def __str__(self):\n",
    "        return (\"Tyres: \\n \\tBranch\" + self.branch +\n",
    "               \"\\n \\t Belted-bias\" + str(self.belted_bias) +\n",
    "               \"\\n \\t optimal pressure\" + str(self.opt_pressure))\n",
    "    \n",
    "    \n",
    "    \n",
    "    \n",
    "class Engine:\n",
    "    def __init__(self,fuel_type,noise_level):\n",
    "        self.fuel_type=fuel_type\n",
    "        self.noise_level=noise_level\n",
    "        \n",
    "    def __str__(self):\n",
    "        return (\"Engine: \\n \\tFuel type\" + self.fuel_type +\n",
    "               \"\\n \\t Noise level:\" + str(self.noise_level))\n",
    "    \n",
    "\n",
    "    \n",
    "class Body:\n",
    "    \n",
    "    def __init__(self,size):\n",
    "        self.size=size\n",
    "        \n",
    "    def __str__(self):\n",
    "        return (\"Body:\\n \\t size\" + self.size)\n",
    "    \n",
    "\n",
    "\n",
    "    \n",
    "class Car:\n",
    "    \n",
    "    def __init__(self,tyres,engine,body):\n",
    "        \n",
    "        self.tyres=tyres\n",
    "        self.engine=engine\n",
    "        self.body=body\n",
    "        \n",
    "    def __str__(self):\n",
    "        return (str(self.tyres) + \"\\n\" + str(self.engine) + \"\\n\" + str(self.body))"
   ]
  },
  {
   "cell_type": "code",
   "execution_count": null,
   "metadata": {},
   "outputs": [],
   "source": [
    "t=Tyres('banaglore',True,2.0)\n",
    "e=Engine('Desel',3)\n",
    "b=Body('Medium')"
   ]
  },
  {
   "cell_type": "code",
   "execution_count": null,
   "metadata": {},
   "outputs": [],
   "source": [
    "c=Car(t,e,b)\n",
    "print(c)"
   ]
  }
 ],
 "metadata": {
  "kernelspec": {
   "display_name": "Python 3.9.0 ('tf_2.6')",
   "language": "python",
   "name": "python3"
  },
  "language_info": {
   "codemirror_mode": {
    "name": "ipython",
    "version": 3
   },
   "file_extension": ".py",
   "mimetype": "text/x-python",
   "name": "python",
   "nbconvert_exporter": "python",
   "pygments_lexer": "ipython3",
   "version": "3.9.0"
  },
  "orig_nbformat": 4,
  "vscode": {
   "interpreter": {
    "hash": "b98157a98c41801e8a93036455317d0b7c8f9fc28bc190e179bcce1a829ff4e9"
   }
  }
 },
 "nbformat": 4,
 "nbformat_minor": 2
}
